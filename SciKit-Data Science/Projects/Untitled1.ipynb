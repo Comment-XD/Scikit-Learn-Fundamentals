{
 "cells": [
  {
   "cell_type": "code",
   "execution_count": 1,
   "id": "a4e859af-ff35-446b-87d8-53779818488b",
   "metadata": {},
   "outputs": [
    {
     "name": "stderr",
     "output_type": "stream",
     "text": [
      "Warning message:\n",
      "\"package 'dplyr' was built under R version 4.3.3\"\n",
      "\n",
      "Attaching package: 'dplyr'\n",
      "\n",
      "\n",
      "The following objects are masked from 'package:stats':\n",
      "\n",
      "    filter, lag\n",
      "\n",
      "\n",
      "The following objects are masked from 'package:base':\n",
      "\n",
      "    intersect, setdiff, setequal, union\n",
      "\n",
      "\n",
      "Warning message:\n",
      "\"package 'ggplot2' was built under R version 4.3.3\"\n"
     ]
    }
   ],
   "source": [
    "library(\"dplyr\")\n",
    "library(\"ggplot2\")"
   ]
  },
  {
   "cell_type": "code",
   "execution_count": 3,
   "id": "b9f187b9-409e-4ddf-b028-087d503372f1",
   "metadata": {},
   "outputs": [],
   "source": [
    "df <- read.csv(\"C:\\\\Users\\\\Brand\\\\project_env\\\\Scikit-Learn-Fundamentals\\\\SciKit-Data Science\\\\data\\\\Binary Prediction of Smoker Status using Bio-Signals\\\\train.csv\")"
   ]
  },
  {
   "cell_type": "code",
   "execution_count": 5,
   "id": "7db30954-5dbb-40f6-9e3b-338f41f1b889",
   "metadata": {},
   "outputs": [
    {
     "data": {
      "text/html": [
       "<table class=\"dataframe\">\n",
       "<caption>A data.frame: 10 × 24</caption>\n",
       "<thead>\n",
       "\t<tr><th></th><th scope=col>id</th><th scope=col>age</th><th scope=col>height.cm.</th><th scope=col>weight.kg.</th><th scope=col>waist.cm.</th><th scope=col>eyesight.left.</th><th scope=col>eyesight.right.</th><th scope=col>hearing.left.</th><th scope=col>hearing.right.</th><th scope=col>systolic</th><th scope=col>⋯</th><th scope=col>HDL</th><th scope=col>LDL</th><th scope=col>hemoglobin</th><th scope=col>Urine.protein</th><th scope=col>serum.creatinine</th><th scope=col>AST</th><th scope=col>ALT</th><th scope=col>Gtp</th><th scope=col>dental.caries</th><th scope=col>smoking</th></tr>\n",
       "\t<tr><th></th><th scope=col>&lt;int&gt;</th><th scope=col>&lt;int&gt;</th><th scope=col>&lt;int&gt;</th><th scope=col>&lt;int&gt;</th><th scope=col>&lt;dbl&gt;</th><th scope=col>&lt;dbl&gt;</th><th scope=col>&lt;dbl&gt;</th><th scope=col>&lt;int&gt;</th><th scope=col>&lt;int&gt;</th><th scope=col>&lt;int&gt;</th><th scope=col>⋯</th><th scope=col>&lt;int&gt;</th><th scope=col>&lt;int&gt;</th><th scope=col>&lt;dbl&gt;</th><th scope=col>&lt;int&gt;</th><th scope=col>&lt;dbl&gt;</th><th scope=col>&lt;int&gt;</th><th scope=col>&lt;int&gt;</th><th scope=col>&lt;int&gt;</th><th scope=col>&lt;int&gt;</th><th scope=col>&lt;int&gt;</th></tr>\n",
       "</thead>\n",
       "<tbody>\n",
       "\t<tr><th scope=row>1</th><td>0</td><td>55</td><td>165</td><td>60</td><td> 81.0</td><td>0.5</td><td>0.6</td><td>1</td><td>1</td><td>135</td><td>⋯</td><td>40</td><td> 75</td><td>16.5</td><td>1</td><td>1.0</td><td>22</td><td>25</td><td> 27</td><td>0</td><td>1</td></tr>\n",
       "\t<tr><th scope=row>2</th><td>1</td><td>70</td><td>165</td><td>65</td><td> 89.0</td><td>0.6</td><td>0.7</td><td>2</td><td>2</td><td>146</td><td>⋯</td><td>57</td><td>126</td><td>16.2</td><td>1</td><td>1.1</td><td>27</td><td>23</td><td> 37</td><td>1</td><td>0</td></tr>\n",
       "\t<tr><th scope=row>3</th><td>2</td><td>20</td><td>170</td><td>75</td><td> 81.0</td><td>0.4</td><td>0.5</td><td>1</td><td>1</td><td>118</td><td>⋯</td><td>45</td><td> 93</td><td>17.4</td><td>1</td><td>0.8</td><td>27</td><td>31</td><td> 53</td><td>0</td><td>1</td></tr>\n",
       "\t<tr><th scope=row>4</th><td>3</td><td>35</td><td>180</td><td>95</td><td>105.0</td><td>1.5</td><td>1.2</td><td>1</td><td>1</td><td>131</td><td>⋯</td><td>38</td><td>102</td><td>15.9</td><td>1</td><td>1.0</td><td>20</td><td>27</td><td> 30</td><td>1</td><td>0</td></tr>\n",
       "\t<tr><th scope=row>5</th><td>4</td><td>30</td><td>165</td><td>60</td><td> 80.5</td><td>1.5</td><td>1.0</td><td>1</td><td>1</td><td>121</td><td>⋯</td><td>44</td><td> 93</td><td>15.4</td><td>1</td><td>0.8</td><td>19</td><td>13</td><td> 17</td><td>0</td><td>1</td></tr>\n",
       "\t<tr><th scope=row>6</th><td>5</td><td>50</td><td>170</td><td>55</td><td> 51.0</td><td>1.2</td><td>1.2</td><td>1</td><td>1</td><td>146</td><td>⋯</td><td>31</td><td> 99</td><td>15.9</td><td>1</td><td>0.7</td><td>24</td><td>42</td><td>119</td><td>1</td><td>1</td></tr>\n",
       "\t<tr><th scope=row>7</th><td>6</td><td>45</td><td>160</td><td>55</td><td> 69.0</td><td>1.5</td><td>1.2</td><td>1</td><td>1</td><td>150</td><td>⋯</td><td>69</td><td>122</td><td>13.0</td><td>1</td><td>0.7</td><td>17</td><td>12</td><td> 16</td><td>0</td><td>0</td></tr>\n",
       "\t<tr><th scope=row>8</th><td>7</td><td>55</td><td>155</td><td>60</td><td> 84.5</td><td>0.7</td><td>0.9</td><td>1</td><td>1</td><td>137</td><td>⋯</td><td>51</td><td>198</td><td>14.5</td><td>1</td><td>0.7</td><td>16</td><td>15</td><td> 16</td><td>0</td><td>0</td></tr>\n",
       "\t<tr><th scope=row>9</th><td>8</td><td>40</td><td>165</td><td>70</td><td> 89.0</td><td>0.7</td><td>1.0</td><td>1</td><td>1</td><td>130</td><td>⋯</td><td>59</td><td>150</td><td>15.7</td><td>1</td><td>0.9</td><td>24</td><td>21</td><td> 31</td><td>0</td><td>1</td></tr>\n",
       "\t<tr><th scope=row>10</th><td>9</td><td>40</td><td>155</td><td>50</td><td> 73.0</td><td>1.5</td><td>1.5</td><td>1</td><td>1</td><td>105</td><td>⋯</td><td>55</td><td>122</td><td>13.2</td><td>1</td><td>0.7</td><td>22</td><td>16</td><td> 14</td><td>0</td><td>0</td></tr>\n",
       "</tbody>\n",
       "</table>\n"
      ],
      "text/latex": [
       "A data.frame: 10 × 24\n",
       "\\begin{tabular}{r|lllllllllllllllllllll}\n",
       "  & id & age & height.cm. & weight.kg. & waist.cm. & eyesight.left. & eyesight.right. & hearing.left. & hearing.right. & systolic & ⋯ & HDL & LDL & hemoglobin & Urine.protein & serum.creatinine & AST & ALT & Gtp & dental.caries & smoking\\\\\n",
       "  & <int> & <int> & <int> & <int> & <dbl> & <dbl> & <dbl> & <int> & <int> & <int> & ⋯ & <int> & <int> & <dbl> & <int> & <dbl> & <int> & <int> & <int> & <int> & <int>\\\\\n",
       "\\hline\n",
       "\t1 & 0 & 55 & 165 & 60 &  81.0 & 0.5 & 0.6 & 1 & 1 & 135 & ⋯ & 40 &  75 & 16.5 & 1 & 1.0 & 22 & 25 &  27 & 0 & 1\\\\\n",
       "\t2 & 1 & 70 & 165 & 65 &  89.0 & 0.6 & 0.7 & 2 & 2 & 146 & ⋯ & 57 & 126 & 16.2 & 1 & 1.1 & 27 & 23 &  37 & 1 & 0\\\\\n",
       "\t3 & 2 & 20 & 170 & 75 &  81.0 & 0.4 & 0.5 & 1 & 1 & 118 & ⋯ & 45 &  93 & 17.4 & 1 & 0.8 & 27 & 31 &  53 & 0 & 1\\\\\n",
       "\t4 & 3 & 35 & 180 & 95 & 105.0 & 1.5 & 1.2 & 1 & 1 & 131 & ⋯ & 38 & 102 & 15.9 & 1 & 1.0 & 20 & 27 &  30 & 1 & 0\\\\\n",
       "\t5 & 4 & 30 & 165 & 60 &  80.5 & 1.5 & 1.0 & 1 & 1 & 121 & ⋯ & 44 &  93 & 15.4 & 1 & 0.8 & 19 & 13 &  17 & 0 & 1\\\\\n",
       "\t6 & 5 & 50 & 170 & 55 &  51.0 & 1.2 & 1.2 & 1 & 1 & 146 & ⋯ & 31 &  99 & 15.9 & 1 & 0.7 & 24 & 42 & 119 & 1 & 1\\\\\n",
       "\t7 & 6 & 45 & 160 & 55 &  69.0 & 1.5 & 1.2 & 1 & 1 & 150 & ⋯ & 69 & 122 & 13.0 & 1 & 0.7 & 17 & 12 &  16 & 0 & 0\\\\\n",
       "\t8 & 7 & 55 & 155 & 60 &  84.5 & 0.7 & 0.9 & 1 & 1 & 137 & ⋯ & 51 & 198 & 14.5 & 1 & 0.7 & 16 & 15 &  16 & 0 & 0\\\\\n",
       "\t9 & 8 & 40 & 165 & 70 &  89.0 & 0.7 & 1.0 & 1 & 1 & 130 & ⋯ & 59 & 150 & 15.7 & 1 & 0.9 & 24 & 21 &  31 & 0 & 1\\\\\n",
       "\t10 & 9 & 40 & 155 & 50 &  73.0 & 1.5 & 1.5 & 1 & 1 & 105 & ⋯ & 55 & 122 & 13.2 & 1 & 0.7 & 22 & 16 &  14 & 0 & 0\\\\\n",
       "\\end{tabular}\n"
      ],
      "text/markdown": [
       "\n",
       "A data.frame: 10 × 24\n",
       "\n",
       "| <!--/--> | id &lt;int&gt; | age &lt;int&gt; | height.cm. &lt;int&gt; | weight.kg. &lt;int&gt; | waist.cm. &lt;dbl&gt; | eyesight.left. &lt;dbl&gt; | eyesight.right. &lt;dbl&gt; | hearing.left. &lt;int&gt; | hearing.right. &lt;int&gt; | systolic &lt;int&gt; | ⋯ ⋯ | HDL &lt;int&gt; | LDL &lt;int&gt; | hemoglobin &lt;dbl&gt; | Urine.protein &lt;int&gt; | serum.creatinine &lt;dbl&gt; | AST &lt;int&gt; | ALT &lt;int&gt; | Gtp &lt;int&gt; | dental.caries &lt;int&gt; | smoking &lt;int&gt; |\n",
       "|---|---|---|---|---|---|---|---|---|---|---|---|---|---|---|---|---|---|---|---|---|---|\n",
       "| 1 | 0 | 55 | 165 | 60 |  81.0 | 0.5 | 0.6 | 1 | 1 | 135 | ⋯ | 40 |  75 | 16.5 | 1 | 1.0 | 22 | 25 |  27 | 0 | 1 |\n",
       "| 2 | 1 | 70 | 165 | 65 |  89.0 | 0.6 | 0.7 | 2 | 2 | 146 | ⋯ | 57 | 126 | 16.2 | 1 | 1.1 | 27 | 23 |  37 | 1 | 0 |\n",
       "| 3 | 2 | 20 | 170 | 75 |  81.0 | 0.4 | 0.5 | 1 | 1 | 118 | ⋯ | 45 |  93 | 17.4 | 1 | 0.8 | 27 | 31 |  53 | 0 | 1 |\n",
       "| 4 | 3 | 35 | 180 | 95 | 105.0 | 1.5 | 1.2 | 1 | 1 | 131 | ⋯ | 38 | 102 | 15.9 | 1 | 1.0 | 20 | 27 |  30 | 1 | 0 |\n",
       "| 5 | 4 | 30 | 165 | 60 |  80.5 | 1.5 | 1.0 | 1 | 1 | 121 | ⋯ | 44 |  93 | 15.4 | 1 | 0.8 | 19 | 13 |  17 | 0 | 1 |\n",
       "| 6 | 5 | 50 | 170 | 55 |  51.0 | 1.2 | 1.2 | 1 | 1 | 146 | ⋯ | 31 |  99 | 15.9 | 1 | 0.7 | 24 | 42 | 119 | 1 | 1 |\n",
       "| 7 | 6 | 45 | 160 | 55 |  69.0 | 1.5 | 1.2 | 1 | 1 | 150 | ⋯ | 69 | 122 | 13.0 | 1 | 0.7 | 17 | 12 |  16 | 0 | 0 |\n",
       "| 8 | 7 | 55 | 155 | 60 |  84.5 | 0.7 | 0.9 | 1 | 1 | 137 | ⋯ | 51 | 198 | 14.5 | 1 | 0.7 | 16 | 15 |  16 | 0 | 0 |\n",
       "| 9 | 8 | 40 | 165 | 70 |  89.0 | 0.7 | 1.0 | 1 | 1 | 130 | ⋯ | 59 | 150 | 15.7 | 1 | 0.9 | 24 | 21 |  31 | 0 | 1 |\n",
       "| 10 | 9 | 40 | 155 | 50 |  73.0 | 1.5 | 1.5 | 1 | 1 | 105 | ⋯ | 55 | 122 | 13.2 | 1 | 0.7 | 22 | 16 |  14 | 0 | 0 |\n",
       "\n"
      ],
      "text/plain": [
       "   id age height.cm. weight.kg. waist.cm. eyesight.left. eyesight.right.\n",
       "1  0  55  165        60          81.0     0.5            0.6            \n",
       "2  1  70  165        65          89.0     0.6            0.7            \n",
       "3  2  20  170        75          81.0     0.4            0.5            \n",
       "4  3  35  180        95         105.0     1.5            1.2            \n",
       "5  4  30  165        60          80.5     1.5            1.0            \n",
       "6  5  50  170        55          51.0     1.2            1.2            \n",
       "7  6  45  160        55          69.0     1.5            1.2            \n",
       "8  7  55  155        60          84.5     0.7            0.9            \n",
       "9  8  40  165        70          89.0     0.7            1.0            \n",
       "10 9  40  155        50          73.0     1.5            1.5            \n",
       "   hearing.left. hearing.right. systolic ⋯ HDL LDL hemoglobin Urine.protein\n",
       "1  1             1              135      ⋯ 40   75 16.5       1            \n",
       "2  2             2              146      ⋯ 57  126 16.2       1            \n",
       "3  1             1              118      ⋯ 45   93 17.4       1            \n",
       "4  1             1              131      ⋯ 38  102 15.9       1            \n",
       "5  1             1              121      ⋯ 44   93 15.4       1            \n",
       "6  1             1              146      ⋯ 31   99 15.9       1            \n",
       "7  1             1              150      ⋯ 69  122 13.0       1            \n",
       "8  1             1              137      ⋯ 51  198 14.5       1            \n",
       "9  1             1              130      ⋯ 59  150 15.7       1            \n",
       "10 1             1              105      ⋯ 55  122 13.2       1            \n",
       "   serum.creatinine AST ALT Gtp dental.caries smoking\n",
       "1  1.0              22  25   27 0             1      \n",
       "2  1.1              27  23   37 1             0      \n",
       "3  0.8              27  31   53 0             1      \n",
       "4  1.0              20  27   30 1             0      \n",
       "5  0.8              19  13   17 0             1      \n",
       "6  0.7              24  42  119 1             1      \n",
       "7  0.7              17  12   16 0             0      \n",
       "8  0.7              16  15   16 0             0      \n",
       "9  0.9              24  21   31 0             1      \n",
       "10 0.7              22  16   14 0             0      "
      ]
     },
     "metadata": {},
     "output_type": "display_data"
    }
   ],
   "source": [
    "head(df, 10)"
   ]
  },
  {
   "cell_type": "code",
   "execution_count": 9,
   "id": "74f87a27-934f-48ac-8463-72c8074324e9",
   "metadata": {},
   "outputs": [
    {
     "ename": "ERROR",
     "evalue": "Error in table(df): attempt to make a table with >= 2^31 elements\n",
     "output_type": "error",
     "traceback": [
      "Error in table(df): attempt to make a table with >= 2^31 elements\nTraceback:\n",
      "1. table(df)",
      "2. stop(\"attempt to make a table with >= 2^31 elements\")"
     ]
    }
   ],
   "source": [
    "ggplot()"
   ]
  }
 ],
 "metadata": {
  "kernelspec": {
   "display_name": "R",
   "language": "R",
   "name": "ir"
  },
  "language_info": {
   "codemirror_mode": "r",
   "file_extension": ".r",
   "mimetype": "text/x-r-source",
   "name": "R",
   "pygments_lexer": "r",
   "version": "4.3.2"
  }
 },
 "nbformat": 4,
 "nbformat_minor": 5
}
