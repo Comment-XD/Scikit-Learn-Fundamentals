{
 "cells": [
  {
   "cell_type": "code",
   "execution_count": 3,
   "id": "34d3e6f8-51e8-440b-8fc7-2b8bb8c174f2",
   "metadata": {},
   "outputs": [],
   "source": [
    "class Stack:\n",
    "    def __init__(self, max_size):\n",
    "        self.size = 0\n",
    "        self.max_size = max_size\n",
    "        self.elements = []\n",
    "\n",
    "    # def __init__(self, max_size, array):\n",
    "    #     if not len(array) > max_size:\n",
    "    #         self.size = len(array)\n",
    "    #         self.max_size = max_size\n",
    "    #         self.elements = array\n",
    "\n",
    "    def push(self, new_element):\n",
    "        if not self.__full__():\n",
    "            self.elements.append(new_element)\n",
    "            self.size += 1\n",
    "\n",
    "    def pop(self):\n",
    "        if not self.__empty__():\n",
    "            popped_element = self.elements.pop()\n",
    "            self.size -= 1\n",
    "            return popped_element\n",
    "            \n",
    "    def peek(self):\n",
    "        return self.elements[-1]\n",
    "\n",
    "    def __empty__(self):\n",
    "        return self.size == 0\n",
    "\n",
    "    def __full__(self):\n",
    "        return self.size == self.max_size"
   ]
  },
  {
   "cell_type": "code",
   "execution_count": 61,
   "id": "d2b2b3ab-6a51-494b-9692-72cc2a18a453",
   "metadata": {},
   "outputs": [],
   "source": [
    "class RadixSort:\n",
    "    \n",
    "    @staticmethod\n",
    "    def run(unsorted_array):\n",
    "        stacks = [Stack(50) for _ in range(10)]\n",
    "        largest_int = 0\n",
    "        \n",
    "        for num in unsorted_array:\n",
    "            if largest_int < len(str(num)):\n",
    "                largest_int = len(str(num))\n",
    "\n",
    "        for i in range(largest_int):\n",
    "            for num in list(reversed(unsorted_array)):\n",
    "                # print(num)\n",
    "                try:\n",
    "                    print(len(str(num)) - 1 - i)\n",
    "                    stacks[int(str(num)[(len(str(num)) - 1) - i])].push(num)\n",
    "                    \n",
    "                except:\n",
    "                    stacks[0].push(num)\n",
    "\n",
    "            unsorted_array = []\n",
    "            for stack in stacks:\n",
    "                while not stack.__empty__():\n",
    "                    popped_element = stack.pop()\n",
    "                    unsorted_array.append(popped_element)\n",
    "            print(unsorted_array)\n",
    "                \n",
    "\n",
    "        return unsorted_array"
   ]
  },
  {
   "cell_type": "code",
   "execution_count": 62,
   "id": "26bc0581-bb16-4673-bdd7-126a20be8740",
   "metadata": {},
   "outputs": [
    {
     "name": "stdout",
     "output_type": "stream",
     "text": [
      "0\n",
      "1\n",
      "3\n",
      "1\n",
      "2\n",
      "[120, 50, 11, 1345, 6]\n",
      "-1\n",
      "2\n",
      "0\n",
      "0\n",
      "1\n",
      "[11, 120, 1345, 50, 6]\n",
      "-2\n",
      "-1\n",
      "1\n",
      "0\n",
      "-1\n",
      "[50, 6, 11, 120, 1345]\n",
      "0\n",
      "-1\n",
      "-2\n",
      "-3\n",
      "-2\n",
      "[6, 120, 11, 1345, 50]\n"
     ]
    },
    {
     "data": {
      "text/plain": [
       "[6, 120, 11, 1345, 50]"
      ]
     },
     "execution_count": 62,
     "metadata": {},
     "output_type": "execute_result"
    }
   ],
   "source": [
    "test_array =  [120, 11, 1345, 50, 6]\n",
    "\n",
    "RadixSort.run(test_array)"
   ]
  },
  {
   "cell_type": "code",
   "execution_count": null,
   "id": "25f8811a-9751-4071-980c-8dd35367fc7d",
   "metadata": {},
   "outputs": [],
   "source": []
  }
 ],
 "metadata": {
  "kernelspec": {
   "display_name": "Python 3 (ipykernel)",
   "language": "python",
   "name": "python3"
  },
  "language_info": {
   "codemirror_mode": {
    "name": "ipython",
    "version": 3
   },
   "file_extension": ".py",
   "mimetype": "text/x-python",
   "name": "python",
   "nbconvert_exporter": "python",
   "pygments_lexer": "ipython3",
   "version": "3.10.11"
  }
 },
 "nbformat": 4,
 "nbformat_minor": 5
}
