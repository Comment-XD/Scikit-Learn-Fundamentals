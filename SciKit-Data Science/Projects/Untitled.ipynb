{
 "cells": [
  {
   "cell_type": "code",
   "execution_count": 5,
   "id": "c8ed653a-357f-4cff-80a7-c4040ee1a298",
   "metadata": {},
   "outputs": [
    {
     "name": "stderr",
     "output_type": "stream",
     "text": [
      "Warning message:\n",
      "\"package 'dplyr' was built under R version 4.3.3\"\n",
      "\n",
      "Attaching package: 'dplyr'\n",
      "\n",
      "\n",
      "The following objects are masked from 'package:stats':\n",
      "\n",
      "    filter, lag\n",
      "\n",
      "\n",
      "The following objects are masked from 'package:base':\n",
      "\n",
      "    intersect, setdiff, setequal, union\n",
      "\n",
      "\n",
      "Warning message:\n",
      "\"package 'ggplot2' was built under R version 4.3.3\"\n"
     ]
    }
   ],
   "source": [
    "library(\"dplyr\")\n",
    "library(\"ggplot2\")"
   ]
  },
  {
   "cell_type": "code",
   "execution_count": 6,
   "id": "2a4e3e4e-662c-4ee1-a627-48d6ab0de7f3",
   "metadata": {},
   "outputs": [],
   "source": [
    "obesity_data <- read.csv(\"C:\\\\Users\\\\Brand\\\\Documents\\\\Branden's Stuff\\\\Python\\\\Machine Learning\\\\data\\\\house_data.csv\")"
   ]
  },
  {
   "cell_type": "code",
   "execution_count": 7,
   "id": "a67a5eef-ee25-4d7c-b220-b1c77e6b59db",
   "metadata": {},
   "outputs": [
    {
     "data": {
      "text/html": [
       "<table class=\"dataframe\">\n",
       "<caption>A data.frame: 10 × 156</caption>\n",
       "<thead>\n",
       "\t<tr><th></th><th scope=col>X</th><th scope=col>Neighborhood</th><th scope=col>Condition1</th><th scope=col>Condition2</th><th scope=col>HouseStyle</th><th scope=col>RoofStyle</th><th scope=col>RoofMatl</th><th scope=col>Exterior1st</th><th scope=col>Exterior2nd</th><th scope=col>Foundation</th><th scope=col>⋯</th><th scope=col>WoodDeckSF</th><th scope=col>OpenPorchSF</th><th scope=col>EnclosedPorch</th><th scope=col>X3SsnPorch</th><th scope=col>ScreenPorch</th><th scope=col>PoolArea</th><th scope=col>MiscVal</th><th scope=col>MoSold</th><th scope=col>YrSold</th><th scope=col>SalePrice</th></tr>\n",
       "\t<tr><th></th><th scope=col>&lt;int&gt;</th><th scope=col>&lt;dbl&gt;</th><th scope=col>&lt;dbl&gt;</th><th scope=col>&lt;dbl&gt;</th><th scope=col>&lt;dbl&gt;</th><th scope=col>&lt;dbl&gt;</th><th scope=col>&lt;dbl&gt;</th><th scope=col>&lt;dbl&gt;</th><th scope=col>&lt;dbl&gt;</th><th scope=col>&lt;dbl&gt;</th><th scope=col>⋯</th><th scope=col>&lt;dbl&gt;</th><th scope=col>&lt;dbl&gt;</th><th scope=col>&lt;dbl&gt;</th><th scope=col>&lt;dbl&gt;</th><th scope=col>&lt;dbl&gt;</th><th scope=col>&lt;dbl&gt;</th><th scope=col>&lt;dbl&gt;</th><th scope=col>&lt;dbl&gt;</th><th scope=col>&lt;dbl&gt;</th><th scope=col>&lt;int&gt;</th></tr>\n",
       "</thead>\n",
       "<tbody>\n",
       "\t<tr><th scope=row>1</th><td>0</td><td> 5</td><td>2</td><td>2</td><td>5</td><td>1</td><td>1</td><td>12</td><td>13</td><td>2</td><td>⋯</td><td>  0</td><td> 61</td><td>  0</td><td>  0</td><td>0</td><td>0</td><td>  0</td><td> 2</td><td>2008</td><td>208500</td></tr>\n",
       "\t<tr><th scope=row>2</th><td>1</td><td>24</td><td>1</td><td>2</td><td>2</td><td>1</td><td>1</td><td> 8</td><td> 8</td><td>1</td><td>⋯</td><td>298</td><td>  0</td><td>  0</td><td>  0</td><td>0</td><td>0</td><td>  0</td><td> 5</td><td>2007</td><td>181500</td></tr>\n",
       "\t<tr><th scope=row>3</th><td>2</td><td> 5</td><td>2</td><td>2</td><td>5</td><td>1</td><td>1</td><td>12</td><td>13</td><td>2</td><td>⋯</td><td>  0</td><td> 42</td><td>  0</td><td>  0</td><td>0</td><td>0</td><td>  0</td><td> 9</td><td>2008</td><td>223500</td></tr>\n",
       "\t<tr><th scope=row>4</th><td>3</td><td> 6</td><td>2</td><td>2</td><td>5</td><td>1</td><td>1</td><td>13</td><td>15</td><td>0</td><td>⋯</td><td>  0</td><td> 35</td><td>272</td><td>  0</td><td>0</td><td>0</td><td>  0</td><td> 2</td><td>2006</td><td>140000</td></tr>\n",
       "\t<tr><th scope=row>5</th><td>4</td><td>15</td><td>2</td><td>2</td><td>5</td><td>1</td><td>1</td><td>12</td><td>13</td><td>2</td><td>⋯</td><td>192</td><td> 84</td><td>  0</td><td>  0</td><td>0</td><td>0</td><td>  0</td><td>12</td><td>2008</td><td>250000</td></tr>\n",
       "\t<tr><th scope=row>6</th><td>5</td><td>11</td><td>2</td><td>2</td><td>0</td><td>1</td><td>1</td><td>12</td><td>13</td><td>5</td><td>⋯</td><td> 40</td><td> 30</td><td>  0</td><td>320</td><td>0</td><td>0</td><td>700</td><td>10</td><td>2009</td><td>143000</td></tr>\n",
       "\t<tr><th scope=row>7</th><td>6</td><td>21</td><td>2</td><td>2</td><td>2</td><td>1</td><td>1</td><td>12</td><td>13</td><td>2</td><td>⋯</td><td>255</td><td> 57</td><td>  0</td><td>  0</td><td>0</td><td>0</td><td>  0</td><td> 8</td><td>2007</td><td>307000</td></tr>\n",
       "\t<tr><th scope=row>8</th><td>7</td><td>14</td><td>4</td><td>2</td><td>5</td><td>1</td><td>1</td><td> 6</td><td> 6</td><td>1</td><td>⋯</td><td>235</td><td>204</td><td>228</td><td>  0</td><td>0</td><td>0</td><td>350</td><td>11</td><td>2009</td><td>200000</td></tr>\n",
       "\t<tr><th scope=row>9</th><td>8</td><td>17</td><td>0</td><td>2</td><td>0</td><td>1</td><td>1</td><td> 3</td><td>15</td><td>0</td><td>⋯</td><td> 90</td><td>  0</td><td>205</td><td>  0</td><td>0</td><td>0</td><td>  0</td><td> 4</td><td>2008</td><td>129900</td></tr>\n",
       "\t<tr><th scope=row>10</th><td>9</td><td> 3</td><td>0</td><td>0</td><td>1</td><td>1</td><td>1</td><td> 8</td><td> 8</td><td>0</td><td>⋯</td><td>  0</td><td>  4</td><td>  0</td><td>  0</td><td>0</td><td>0</td><td>  0</td><td> 1</td><td>2008</td><td>118000</td></tr>\n",
       "</tbody>\n",
       "</table>\n"
      ],
      "text/latex": [
       "A data.frame: 10 × 156\n",
       "\\begin{tabular}{r|lllllllllllllllllllll}\n",
       "  & X & Neighborhood & Condition1 & Condition2 & HouseStyle & RoofStyle & RoofMatl & Exterior1st & Exterior2nd & Foundation & ⋯ & WoodDeckSF & OpenPorchSF & EnclosedPorch & X3SsnPorch & ScreenPorch & PoolArea & MiscVal & MoSold & YrSold & SalePrice\\\\\n",
       "  & <int> & <dbl> & <dbl> & <dbl> & <dbl> & <dbl> & <dbl> & <dbl> & <dbl> & <dbl> & ⋯ & <dbl> & <dbl> & <dbl> & <dbl> & <dbl> & <dbl> & <dbl> & <dbl> & <dbl> & <int>\\\\\n",
       "\\hline\n",
       "\t1 & 0 &  5 & 2 & 2 & 5 & 1 & 1 & 12 & 13 & 2 & ⋯ &   0 &  61 &   0 &   0 & 0 & 0 &   0 &  2 & 2008 & 208500\\\\\n",
       "\t2 & 1 & 24 & 1 & 2 & 2 & 1 & 1 &  8 &  8 & 1 & ⋯ & 298 &   0 &   0 &   0 & 0 & 0 &   0 &  5 & 2007 & 181500\\\\\n",
       "\t3 & 2 &  5 & 2 & 2 & 5 & 1 & 1 & 12 & 13 & 2 & ⋯ &   0 &  42 &   0 &   0 & 0 & 0 &   0 &  9 & 2008 & 223500\\\\\n",
       "\t4 & 3 &  6 & 2 & 2 & 5 & 1 & 1 & 13 & 15 & 0 & ⋯ &   0 &  35 & 272 &   0 & 0 & 0 &   0 &  2 & 2006 & 140000\\\\\n",
       "\t5 & 4 & 15 & 2 & 2 & 5 & 1 & 1 & 12 & 13 & 2 & ⋯ & 192 &  84 &   0 &   0 & 0 & 0 &   0 & 12 & 2008 & 250000\\\\\n",
       "\t6 & 5 & 11 & 2 & 2 & 0 & 1 & 1 & 12 & 13 & 5 & ⋯ &  40 &  30 &   0 & 320 & 0 & 0 & 700 & 10 & 2009 & 143000\\\\\n",
       "\t7 & 6 & 21 & 2 & 2 & 2 & 1 & 1 & 12 & 13 & 2 & ⋯ & 255 &  57 &   0 &   0 & 0 & 0 &   0 &  8 & 2007 & 307000\\\\\n",
       "\t8 & 7 & 14 & 4 & 2 & 5 & 1 & 1 &  6 &  6 & 1 & ⋯ & 235 & 204 & 228 &   0 & 0 & 0 & 350 & 11 & 2009 & 200000\\\\\n",
       "\t9 & 8 & 17 & 0 & 2 & 0 & 1 & 1 &  3 & 15 & 0 & ⋯ &  90 &   0 & 205 &   0 & 0 & 0 &   0 &  4 & 2008 & 129900\\\\\n",
       "\t10 & 9 &  3 & 0 & 0 & 1 & 1 & 1 &  8 &  8 & 0 & ⋯ &   0 &   4 &   0 &   0 & 0 & 0 &   0 &  1 & 2008 & 118000\\\\\n",
       "\\end{tabular}\n"
      ],
      "text/markdown": [
       "\n",
       "A data.frame: 10 × 156\n",
       "\n",
       "| <!--/--> | X &lt;int&gt; | Neighborhood &lt;dbl&gt; | Condition1 &lt;dbl&gt; | Condition2 &lt;dbl&gt; | HouseStyle &lt;dbl&gt; | RoofStyle &lt;dbl&gt; | RoofMatl &lt;dbl&gt; | Exterior1st &lt;dbl&gt; | Exterior2nd &lt;dbl&gt; | Foundation &lt;dbl&gt; | ⋯ ⋯ | WoodDeckSF &lt;dbl&gt; | OpenPorchSF &lt;dbl&gt; | EnclosedPorch &lt;dbl&gt; | X3SsnPorch &lt;dbl&gt; | ScreenPorch &lt;dbl&gt; | PoolArea &lt;dbl&gt; | MiscVal &lt;dbl&gt; | MoSold &lt;dbl&gt; | YrSold &lt;dbl&gt; | SalePrice &lt;int&gt; |\n",
       "|---|---|---|---|---|---|---|---|---|---|---|---|---|---|---|---|---|---|---|---|---|---|\n",
       "| 1 | 0 |  5 | 2 | 2 | 5 | 1 | 1 | 12 | 13 | 2 | ⋯ |   0 |  61 |   0 |   0 | 0 | 0 |   0 |  2 | 2008 | 208500 |\n",
       "| 2 | 1 | 24 | 1 | 2 | 2 | 1 | 1 |  8 |  8 | 1 | ⋯ | 298 |   0 |   0 |   0 | 0 | 0 |   0 |  5 | 2007 | 181500 |\n",
       "| 3 | 2 |  5 | 2 | 2 | 5 | 1 | 1 | 12 | 13 | 2 | ⋯ |   0 |  42 |   0 |   0 | 0 | 0 |   0 |  9 | 2008 | 223500 |\n",
       "| 4 | 3 |  6 | 2 | 2 | 5 | 1 | 1 | 13 | 15 | 0 | ⋯ |   0 |  35 | 272 |   0 | 0 | 0 |   0 |  2 | 2006 | 140000 |\n",
       "| 5 | 4 | 15 | 2 | 2 | 5 | 1 | 1 | 12 | 13 | 2 | ⋯ | 192 |  84 |   0 |   0 | 0 | 0 |   0 | 12 | 2008 | 250000 |\n",
       "| 6 | 5 | 11 | 2 | 2 | 0 | 1 | 1 | 12 | 13 | 5 | ⋯ |  40 |  30 |   0 | 320 | 0 | 0 | 700 | 10 | 2009 | 143000 |\n",
       "| 7 | 6 | 21 | 2 | 2 | 2 | 1 | 1 | 12 | 13 | 2 | ⋯ | 255 |  57 |   0 |   0 | 0 | 0 |   0 |  8 | 2007 | 307000 |\n",
       "| 8 | 7 | 14 | 4 | 2 | 5 | 1 | 1 |  6 |  6 | 1 | ⋯ | 235 | 204 | 228 |   0 | 0 | 0 | 350 | 11 | 2009 | 200000 |\n",
       "| 9 | 8 | 17 | 0 | 2 | 0 | 1 | 1 |  3 | 15 | 0 | ⋯ |  90 |   0 | 205 |   0 | 0 | 0 |   0 |  4 | 2008 | 129900 |\n",
       "| 10 | 9 |  3 | 0 | 0 | 1 | 1 | 1 |  8 |  8 | 0 | ⋯ |   0 |   4 |   0 |   0 | 0 | 0 |   0 |  1 | 2008 | 118000 |\n",
       "\n"
      ],
      "text/plain": [
       "   X Neighborhood Condition1 Condition2 HouseStyle RoofStyle RoofMatl\n",
       "1  0  5           2          2          5          1         1       \n",
       "2  1 24           1          2          2          1         1       \n",
       "3  2  5           2          2          5          1         1       \n",
       "4  3  6           2          2          5          1         1       \n",
       "5  4 15           2          2          5          1         1       \n",
       "6  5 11           2          2          0          1         1       \n",
       "7  6 21           2          2          2          1         1       \n",
       "8  7 14           4          2          5          1         1       \n",
       "9  8 17           0          2          0          1         1       \n",
       "10 9  3           0          0          1          1         1       \n",
       "   Exterior1st Exterior2nd Foundation ⋯ WoodDeckSF OpenPorchSF EnclosedPorch\n",
       "1  12          13          2          ⋯   0         61           0          \n",
       "2   8           8          1          ⋯ 298          0           0          \n",
       "3  12          13          2          ⋯   0         42           0          \n",
       "4  13          15          0          ⋯   0         35         272          \n",
       "5  12          13          2          ⋯ 192         84           0          \n",
       "6  12          13          5          ⋯  40         30           0          \n",
       "7  12          13          2          ⋯ 255         57           0          \n",
       "8   6           6          1          ⋯ 235        204         228          \n",
       "9   3          15          0          ⋯  90          0         205          \n",
       "10  8           8          0          ⋯   0          4           0          \n",
       "   X3SsnPorch ScreenPorch PoolArea MiscVal MoSold YrSold SalePrice\n",
       "1    0        0           0          0      2     2008   208500   \n",
       "2    0        0           0          0      5     2007   181500   \n",
       "3    0        0           0          0      9     2008   223500   \n",
       "4    0        0           0          0      2     2006   140000   \n",
       "5    0        0           0          0     12     2008   250000   \n",
       "6  320        0           0        700     10     2009   143000   \n",
       "7    0        0           0          0      8     2007   307000   \n",
       "8    0        0           0        350     11     2009   200000   \n",
       "9    0        0           0          0      4     2008   129900   \n",
       "10   0        0           0          0      1     2008   118000   "
      ]
     },
     "metadata": {},
     "output_type": "display_data"
    }
   ],
   "source": [
    "head(obesity_data, 10)"
   ]
  },
  {
   "cell_type": "code",
   "execution_count": 8,
   "id": "a120d940-02a8-4ebc-b73e-e081b55e908c",
   "metadata": {},
   "outputs": [
    {
     "data": {
      "text/html": [
       "<table class=\"dataframe\">\n",
       "<caption>A data.frame: 1460 × 1</caption>\n",
       "<thead>\n",
       "\t<tr><th scope=col>Neighborhood</th></tr>\n",
       "\t<tr><th scope=col>&lt;dbl&gt;</th></tr>\n",
       "</thead>\n",
       "<tbody>\n",
       "\t<tr><td> 5</td></tr>\n",
       "\t<tr><td>24</td></tr>\n",
       "\t<tr><td> 5</td></tr>\n",
       "\t<tr><td> 6</td></tr>\n",
       "\t<tr><td>15</td></tr>\n",
       "\t<tr><td>11</td></tr>\n",
       "\t<tr><td>21</td></tr>\n",
       "\t<tr><td>14</td></tr>\n",
       "\t<tr><td>17</td></tr>\n",
       "\t<tr><td> 3</td></tr>\n",
       "\t<tr><td>19</td></tr>\n",
       "\t<tr><td>16</td></tr>\n",
       "\t<tr><td>19</td></tr>\n",
       "\t<tr><td> 5</td></tr>\n",
       "\t<tr><td>12</td></tr>\n",
       "\t<tr><td> 3</td></tr>\n",
       "\t<tr><td>12</td></tr>\n",
       "\t<tr><td>19</td></tr>\n",
       "\t<tr><td>20</td></tr>\n",
       "\t<tr><td>12</td></tr>\n",
       "\t<tr><td>16</td></tr>\n",
       "\t<tr><td> 9</td></tr>\n",
       "\t<tr><td> 5</td></tr>\n",
       "\t<tr><td>10</td></tr>\n",
       "\t<tr><td>19</td></tr>\n",
       "\t<tr><td>16</td></tr>\n",
       "\t<tr><td>12</td></tr>\n",
       "\t<tr><td>16</td></tr>\n",
       "\t<tr><td>12</td></tr>\n",
       "\t<tr><td> 3</td></tr>\n",
       "\t<tr><td>⋮</td></tr>\n",
       "\t<tr><td> 8</td></tr>\n",
       "\t<tr><td>13</td></tr>\n",
       "\t<tr><td>17</td></tr>\n",
       "\t<tr><td> 8</td></tr>\n",
       "\t<tr><td>11</td></tr>\n",
       "\t<tr><td>12</td></tr>\n",
       "\t<tr><td>12</td></tr>\n",
       "\t<tr><td>16</td></tr>\n",
       "\t<tr><td>17</td></tr>\n",
       "\t<tr><td>14</td></tr>\n",
       "\t<tr><td> 6</td></tr>\n",
       "\t<tr><td> 5</td></tr>\n",
       "\t<tr><td>21</td></tr>\n",
       "\t<tr><td> 3</td></tr>\n",
       "\t<tr><td> 5</td></tr>\n",
       "\t<tr><td>19</td></tr>\n",
       "\t<tr><td>11</td></tr>\n",
       "\t<tr><td> 5</td></tr>\n",
       "\t<tr><td> 7</td></tr>\n",
       "\t<tr><td>10</td></tr>\n",
       "\t<tr><td>12</td></tr>\n",
       "\t<tr><td>21</td></tr>\n",
       "\t<tr><td> 7</td></tr>\n",
       "\t<tr><td>11</td></tr>\n",
       "\t<tr><td>21</td></tr>\n",
       "\t<tr><td> 8</td></tr>\n",
       "\t<tr><td>14</td></tr>\n",
       "\t<tr><td> 6</td></tr>\n",
       "\t<tr><td>12</td></tr>\n",
       "\t<tr><td> 7</td></tr>\n",
       "</tbody>\n",
       "</table>\n"
      ],
      "text/latex": [
       "A data.frame: 1460 × 1\n",
       "\\begin{tabular}{l}\n",
       " Neighborhood\\\\\n",
       " <dbl>\\\\\n",
       "\\hline\n",
       "\t  5\\\\\n",
       "\t 24\\\\\n",
       "\t  5\\\\\n",
       "\t  6\\\\\n",
       "\t 15\\\\\n",
       "\t 11\\\\\n",
       "\t 21\\\\\n",
       "\t 14\\\\\n",
       "\t 17\\\\\n",
       "\t  3\\\\\n",
       "\t 19\\\\\n",
       "\t 16\\\\\n",
       "\t 19\\\\\n",
       "\t  5\\\\\n",
       "\t 12\\\\\n",
       "\t  3\\\\\n",
       "\t 12\\\\\n",
       "\t 19\\\\\n",
       "\t 20\\\\\n",
       "\t 12\\\\\n",
       "\t 16\\\\\n",
       "\t  9\\\\\n",
       "\t  5\\\\\n",
       "\t 10\\\\\n",
       "\t 19\\\\\n",
       "\t 16\\\\\n",
       "\t 12\\\\\n",
       "\t 16\\\\\n",
       "\t 12\\\\\n",
       "\t  3\\\\\n",
       "\t ⋮\\\\\n",
       "\t  8\\\\\n",
       "\t 13\\\\\n",
       "\t 17\\\\\n",
       "\t  8\\\\\n",
       "\t 11\\\\\n",
       "\t 12\\\\\n",
       "\t 12\\\\\n",
       "\t 16\\\\\n",
       "\t 17\\\\\n",
       "\t 14\\\\\n",
       "\t  6\\\\\n",
       "\t  5\\\\\n",
       "\t 21\\\\\n",
       "\t  3\\\\\n",
       "\t  5\\\\\n",
       "\t 19\\\\\n",
       "\t 11\\\\\n",
       "\t  5\\\\\n",
       "\t  7\\\\\n",
       "\t 10\\\\\n",
       "\t 12\\\\\n",
       "\t 21\\\\\n",
       "\t  7\\\\\n",
       "\t 11\\\\\n",
       "\t 21\\\\\n",
       "\t  8\\\\\n",
       "\t 14\\\\\n",
       "\t  6\\\\\n",
       "\t 12\\\\\n",
       "\t  7\\\\\n",
       "\\end{tabular}\n"
      ],
      "text/markdown": [
       "\n",
       "A data.frame: 1460 × 1\n",
       "\n",
       "| Neighborhood &lt;dbl&gt; |\n",
       "|---|\n",
       "|  5 |\n",
       "| 24 |\n",
       "|  5 |\n",
       "|  6 |\n",
       "| 15 |\n",
       "| 11 |\n",
       "| 21 |\n",
       "| 14 |\n",
       "| 17 |\n",
       "|  3 |\n",
       "| 19 |\n",
       "| 16 |\n",
       "| 19 |\n",
       "|  5 |\n",
       "| 12 |\n",
       "|  3 |\n",
       "| 12 |\n",
       "| 19 |\n",
       "| 20 |\n",
       "| 12 |\n",
       "| 16 |\n",
       "|  9 |\n",
       "|  5 |\n",
       "| 10 |\n",
       "| 19 |\n",
       "| 16 |\n",
       "| 12 |\n",
       "| 16 |\n",
       "| 12 |\n",
       "|  3 |\n",
       "| ⋮ |\n",
       "|  8 |\n",
       "| 13 |\n",
       "| 17 |\n",
       "|  8 |\n",
       "| 11 |\n",
       "| 12 |\n",
       "| 12 |\n",
       "| 16 |\n",
       "| 17 |\n",
       "| 14 |\n",
       "|  6 |\n",
       "|  5 |\n",
       "| 21 |\n",
       "|  3 |\n",
       "|  5 |\n",
       "| 19 |\n",
       "| 11 |\n",
       "|  5 |\n",
       "|  7 |\n",
       "| 10 |\n",
       "| 12 |\n",
       "| 21 |\n",
       "|  7 |\n",
       "| 11 |\n",
       "| 21 |\n",
       "|  8 |\n",
       "| 14 |\n",
       "|  6 |\n",
       "| 12 |\n",
       "|  7 |\n",
       "\n"
      ],
      "text/plain": [
       "     Neighborhood\n",
       "1     5          \n",
       "2    24          \n",
       "3     5          \n",
       "4     6          \n",
       "5    15          \n",
       "6    11          \n",
       "7    21          \n",
       "8    14          \n",
       "9    17          \n",
       "10    3          \n",
       "11   19          \n",
       "12   16          \n",
       "13   19          \n",
       "14    5          \n",
       "15   12          \n",
       "16    3          \n",
       "17   12          \n",
       "18   19          \n",
       "19   20          \n",
       "20   12          \n",
       "21   16          \n",
       "22    9          \n",
       "23    5          \n",
       "24   10          \n",
       "25   19          \n",
       "26   16          \n",
       "27   12          \n",
       "28   16          \n",
       "29   12          \n",
       "30    3          \n",
       "⋮    ⋮           \n",
       "1431  8          \n",
       "1432 13          \n",
       "1433 17          \n",
       "1434  8          \n",
       "1435 11          \n",
       "1436 12          \n",
       "1437 12          \n",
       "1438 16          \n",
       "1439 17          \n",
       "1440 14          \n",
       "1441  6          \n",
       "1442  5          \n",
       "1443 21          \n",
       "1444  3          \n",
       "1445  5          \n",
       "1446 19          \n",
       "1447 11          \n",
       "1448  5          \n",
       "1449  7          \n",
       "1450 10          \n",
       "1451 12          \n",
       "1452 21          \n",
       "1453  7          \n",
       "1454 11          \n",
       "1455 21          \n",
       "1456  8          \n",
       "1457 14          \n",
       "1458  6          \n",
       "1459 12          \n",
       "1460  7          "
      ]
     },
     "metadata": {},
     "output_type": "display_data"
    }
   ],
   "source": [
    "obesity_data %>% \n",
    "    select(Neighborhood)"
   ]
  },
  {
   "attachments": {
    "7a5f6f89-9ac7-459a-bfa7-0878f1bc3df3.png": {
     "image/png": "[encoded data removed]"
    }
   },
   "cell_type": "markdown",
   "id": "86daddc2-7f98-4158-978a-b00dd7ec7fb4",
   "metadata": {},
   "source": [
    "***\n",
    "![image.png](attachment:7a5f6f89-9ac7-459a-bfa7-0878f1bc3df3.png)\n",
    "***"
   ]
  },
  {
   "cell_type": "code",
   "execution_count": 14,
   "id": "c51731f2-ff23-4e30-b9b7-d5c6f857f2fb",
   "metadata": {},
   "outputs": [
    {
     "data": {
      "text/html": [
       "0.000194049678917925"
      ],
      "text/latex": [
       "0.000194049678917925"
      ],
      "text/markdown": [
       "0.000194049678917925"
      ],
      "text/plain": [
       "[1] 0.0001940497"
      ]
     },
     "metadata": {},
     "output_type": "display_data"
    },
    {
     "data": {
      "text/html": [
       "0.998561613974761"
      ],
      "text/latex": [
       "0.998561613974761"
      ],
      "text/markdown": [
       "0.998561613974761"
      ],
      "text/plain": [
       "[1] 0.9985616"
      ]
     },
     "metadata": {},
     "output_type": "display_data"
    }
   ],
   "source": [
    "n = 15\n",
    "p = 0.83\n",
    "x = 6\n",
    "\n",
    "bi_prob <- function(n, p, x) {\n",
    "    choose(n, x) * p^x * (1 - p)^(n - x)\n",
    "}\n",
    "\n",
    "bi_prob(n,p,x)\n",
    "sum <- 0\n",
    "for (i in 8:15) {\n",
    "    sum <- sum + bi_prob(n, p, i)\n",
    "}\n",
    "sum"
   ]
  },
  {
   "cell_type": "code",
   "execution_count": 22,
   "id": "d1f3d18e-ef8c-41cb-a686-a64b8ef5ee1c",
   "metadata": {},
   "outputs": [
    {
     "data": {
      "text/html": [
       "0.00874015800396251"
      ],
      "text/latex": [
       "0.00874015800396251"
      ],
      "text/markdown": [
       "0.00874015800396251"
      ],
      "text/plain": [
       "[1] 0.008740158"
      ]
     },
     "metadata": {},
     "output_type": "display_data"
    }
   ],
   "source": [
    "# choose(21, 13) * 0.7^13 * (0.3)^8 +\n",
    "# choose(21, 12) * 0.7^12 * (0.3)^9 +\n",
    "# choose(21, 11) * 0.7^11 * (0.3)^10 +\n",
    "# choose(21, 10) * 0.7^10 * (0.3)^11 +\n",
    "choose(21, 9) * 0.7^9 * (0.3)^12 +\n",
    "choose(21, 8) * 0.7^8 * (0.3)^13 +\n",
    "choose(21, 7) * 0.7^7 * (0.3)^14 +\n",
    "choose(21, 6) * 0.7^6 * (0.3)^15 +\n",
    "choose(21, 5) * 0.7^5 * (0.3)^16 +\n",
    "choose(21, 4) * 0.7^4 * (0.3)^17 +\n",
    "choose(21, 3) * 0.7^3 * (0.3)^18 +\n",
    "choose(21, 2) * 0.7^2 * (0.3)^19 +\n",
    "choose(21, 1) * 0.7^1 * (0.3)^20 +\n",
    "choose(21, 0) * 0.7^0 * (0.3)^21"
   ]
  },
  {
   "cell_type": "code",
   "execution_count": 21,
   "id": "826946e2-8b97-4ca8-85b7-88ab0ec87925",
   "metadata": {},
   "outputs": [
    {
     "data": {
      "text/html": [
       "0.027129370541188"
      ],
      "text/latex": [
       "0.027129370541188"
      ],
      "text/markdown": [
       "0.027129370541188"
      ],
      "text/plain": [
       "[1] 0.02712937"
      ]
     },
     "metadata": {},
     "output_type": "display_data"
    }
   ],
   "source": [
    "# choose(21, 18) * 0.7^18 * (0.3)^3 +\n",
    "choose(21, 19) * 0.7^19 * (0.3)^2 +\n",
    "choose(21, 20) * 0.7^20 * (0.3)^1+\n",
    "choose(21, 21) * 0.7^21 * (0.3)^0"
   ]
  },
  {
   "cell_type": "code",
   "execution_count": 32,
   "id": "fc83d8d0-05e8-48e8-bd60-bcb5fa4ada1f",
   "metadata": {},
   "outputs": [
    {
     "data": {
      "text/html": [
       "0.358485922408542"
      ],
      "text/latex": [
       "0.358485922408542"
      ],
      "text/markdown": [
       "0.358485922408542"
      ],
      "text/plain": [
       "[1] 0.3584859"
      ]
     },
     "metadata": {},
     "output_type": "display_data"
    }
   ],
   "source": [
    "choose(20, 0) * 0.05^0 * (0.95)^20\n",
    "# choose(20, 1) * 0.05^1 * (0.95)^19 +\n",
    "# choose(20, 2) * 0.05^2 * (0.95)^18 +\n",
    "# choose(20, 3) * 0.05^3 * (0.95)^17\n",
    "\n",
    "# 1- 0.924516326211503"
   ]
  },
  {
   "cell_type": "code",
   "execution_count": 35,
   "id": "f3878b70-9350-4b2a-8647-c76710107f31",
   "metadata": {},
   "outputs": [
    {
     "data": {
      "text/html": [
       "0.201929542409359"
      ],
      "text/latex": [
       "0.201929542409359"
      ],
      "text/markdown": [
       "0.201929542409359"
      ],
      "text/plain": [
       "[1] 0.2019295"
      ]
     },
     "metadata": {},
     "output_type": "display_data"
    }
   ],
   "source": [
    "choose(10, 9) * 0.73^9 * (0.27)^1 +\n",
    "choose(10, 10) * 0.73^10 * (0.27)^0\n",
    "# choose(10, 8) * 0.73^8 * (0.3)^13 +\n",
    "# choose(10, 7) * 0.73^7 * (0.3)^14 +\n",
    "# choose(10, 6) * 0.73^6 * (0.3)^15 +\n",
    "# choose(10, 5) * 0.73^5 * (0.3)^16 +\n",
    "# choose(10, 4) * 0.73^4 * (0.3)^17 +\n",
    "# choose(10, 3) * 0.73^3 * (0.3)^18 +\n",
    "# choose(10, 2) * 0.73^2 * (0.3)^19 +\n",
    "# choose(10, 1) * 0.73^1 * (0.3)^20 +\n",
    "# choose(10, 0) * 0.73^0 * (0.3)^21"
   ]
  }
 ],
 "metadata": {
  "kernelspec": {
   "display_name": "R",
   "language": "R",
   "name": "ir"
  },
  "language_info": {
   "codemirror_mode": "r",
   "file_extension": ".r",
   "mimetype": "text/x-r-source",
   "name": "R",
   "pygments_lexer": "r",
   "version": "4.3.2"
  }
 },
 "nbformat": 4,
 "nbformat_minor": 5
}
