{
 "cells": [
  {
   "cell_type": "code",
   "execution_count": 5,
   "id": "c8ed653a-357f-4cff-80a7-c4040ee1a298",
   "metadata": {},
   "outputs": [
    {
     "name": "stderr",
     "output_type": "stream",
     "text": [
      "Warning message:\n",
      "\"package 'dplyr' was built under R version 4.3.3\"\n",
      "\n",
      "Attaching package: 'dplyr'\n",
      "\n",
      "\n",
      "The following objects are masked from 'package:stats':\n",
      "\n",
      "    filter, lag\n",
      "\n",
      "\n",
      "The following objects are masked from 'package:base':\n",
      "\n",
      "    intersect, setdiff, setequal, union\n",
      "\n",
      "\n",
      "Warning message:\n",
      "\"package 'ggplot2' was built under R version 4.3.3\"\n"
     ]
    }
   ],
   "source": [
    "library(\"dplyr\")\n",
    "library(\"ggplot2\")"
   ]
  },
  {
   "cell_type": "code",
   "execution_count": 6,
   "id": "2a4e3e4e-662c-4ee1-a627-48d6ab0de7f3",
   "metadata": {},
   "outputs": [],
   "source": [
    "obesity_data <- read.csv(\"C:\\\\Users\\\\Brand\\\\Documents\\\\Branden's Stuff\\\\Python\\\\Machine Learning\\\\data\\\\house_data.csv\")"
   ]
  },
  {
   "cell_type": "code",
   "execution_count": 7,
   "id": "a67a5eef-ee25-4d7c-b220-b1c77e6b59db",
   "metadata": {},
   "outputs": [
    {
     "data": {
      "text/html": [
       "<table class=\"dataframe\">\n",
       "<caption>A data.frame: 10 × 156</caption>\n",
       "<thead>\n",
       "\t<tr><th></th><th scope=col>X</th><th scope=col>Neighborhood</th><th scope=col>Condition1</th><th scope=col>Condition2</th><th scope=col>HouseStyle</th><th scope=col>RoofStyle</th><th scope=col>RoofMatl</th><th scope=col>Exterior1st</th><th scope=col>Exterior2nd</th><th scope=col>Foundation</th><th scope=col>⋯</th><th scope=col>WoodDeckSF</th><th scope=col>OpenPorchSF</th><th scope=col>EnclosedPorch</th><th scope=col>X3SsnPorch</th><th scope=col>ScreenPorch</th><th scope=col>PoolArea</th><th scope=col>MiscVal</th><th scope=col>MoSold</th><th scope=col>YrSold</th><th scope=col>SalePrice</th></tr>\n",
       "\t<tr><th></th><th scope=col>&lt;int&gt;</th><th scope=col>&lt;dbl&gt;</th><th scope=col>&lt;dbl&gt;</th><th scope=col>&lt;dbl&gt;</th><th scope=col>&lt;dbl&gt;</th><th scope=col>&lt;dbl&gt;</th><th scope=col>&lt;dbl&gt;</th><th scope=col>&lt;dbl&gt;</th><th scope=col>&lt;dbl&gt;</th><th scope=col>&lt;dbl&gt;</th><th scope=col>⋯</th><th scope=col>&lt;dbl&gt;</th><th scope=col>&lt;dbl&gt;</th><th scope=col>&lt;dbl&gt;</th><th scope=col>&lt;dbl&gt;</th><th scope=col>&lt;dbl&gt;</th><th scope=col>&lt;dbl&gt;</th><th scope=col>&lt;dbl&gt;</th><th scope=col>&lt;dbl&gt;</th><th scope=col>&lt;dbl&gt;</th><th scope=col>&lt;int&gt;</th></tr>\n",
       "</thead>\n",
       "<tbody>\n",
       "\t<tr><th scope=row>1</th><td>0</td><td> 5</td><td>2</td><td>2</td><td>5</td><td>1</td><td>1</td><td>12</td><td>13</td><td>2</td><td>⋯</td><td>  0</td><td> 61</td><td>  0</td><td>  0</td><td>0</td><td>0</td><td>  0</td><td> 2</td><td>2008</td><td>208500</td></tr>\n",
       "\t<tr><th scope=row>2</th><td>1</td><td>24</td><td>1</td><td>2</td><td>2</td><td>1</td><td>1</td><td> 8</td><td> 8</td><td>1</td><td>⋯</td><td>298</td><td>  0</td><td>  0</td><td>  0</td><td>0</td><td>0</td><td>  0</td><td> 5</td><td>2007</td><td>181500</td></tr>\n",
       "\t<tr><th scope=row>3</th><td>2</td><td> 5</td><td>2</td><td>2</td><td>5</td><td>1</td><td>1</td><td>12</td><td>13</td><td>2</td><td>⋯</td><td>  0</td><td> 42</td><td>  0</td><td>  0</td><td>0</td><td>0</td><td>  0</td><td> 9</td><td>2008</td><td>223500</td></tr>\n",
       "\t<tr><th scope=row>4</th><td>3</td><td> 6</td><td>2</td><td>2</td><td>5</td><td>1</td><td>1</td><td>13</td><td>15</td><td>0</td><td>⋯</td><td>  0</td><td> 35</td><td>272</td><td>  0</td><td>0</td><td>0</td><td>  0</td><td> 2</td><td>2006</td><td>140000</td></tr>\n",
       "\t<tr><th scope=row>5</th><td>4</td><td>15</td><td>2</td><td>2</td><td>5</td><td>1</td><td>1</td><td>12</td><td>13</td><td>2</td><td>⋯</td><td>192</td><td> 84</td><td>  0</td><td>  0</td><td>0</td><td>0</td><td>  0</td><td>12</td><td>2008</td><td>250000</td></tr>\n",
       "\t<tr><th scope=row>6</th><td>5</td><td>11</td><td>2</td><td>2</td><td>0</td><td>1</td><td>1</td><td>12</td><td>13</td><td>5</td><td>⋯</td><td> 40</td><td> 30</td><td>  0</td><td>320</td><td>0</td><td>0</td><td>700</td><td>10</td><td>2009</td><td>143000</td></tr>\n",
       "\t<tr><th scope=row>7</th><td>6</td><td>21</td><td>2</td><td>2</td><td>2</td><td>1</td><td>1</td><td>12</td><td>13</td><td>2</td><td>⋯</td><td>255</td><td> 57</td><td>  0</td><td>  0</td><td>0</td><td>0</td><td>  0</td><td> 8</td><td>2007</td><td>307000</td></tr>\n",
       "\t<tr><th scope=row>8</th><td>7</td><td>14</td><td>4</td><td>2</td><td>5</td><td>1</td><td>1</td><td> 6</td><td> 6</td><td>1</td><td>⋯</td><td>235</td><td>204</td><td>228</td><td>  0</td><td>0</td><td>0</td><td>350</td><td>11</td><td>2009</td><td>200000</td></tr>\n",
       "\t<tr><th scope=row>9</th><td>8</td><td>17</td><td>0</td><td>2</td><td>0</td><td>1</td><td>1</td><td> 3</td><td>15</td><td>0</td><td>⋯</td><td> 90</td><td>  0</td><td>205</td><td>  0</td><td>0</td><td>0</td><td>  0</td><td> 4</td><td>2008</td><td>129900</td></tr>\n",
       "\t<tr><th scope=row>10</th><td>9</td><td> 3</td><td>0</td><td>0</td><td>1</td><td>1</td><td>1</td><td> 8</td><td> 8</td><td>0</td><td>⋯</td><td>  0</td><td>  4</td><td>  0</td><td>  0</td><td>0</td><td>0</td><td>  0</td><td> 1</td><td>2008</td><td>118000</td></tr>\n",
       "</tbody>\n",
       "</table>\n"
      ],
      "text/latex": [
       "A data.frame: 10 × 156\n",
       "\\begin{tabular}{r|lllllllllllllllllllll}\n",
       "  & X & Neighborhood & Condition1 & Condition2 & HouseStyle & RoofStyle & RoofMatl & Exterior1st & Exterior2nd & Foundation & ⋯ & WoodDeckSF & OpenPorchSF & EnclosedPorch & X3SsnPorch & ScreenPorch & PoolArea & MiscVal & MoSold & YrSold & SalePrice\\\\\n",
       "  & <int> & <dbl> & <dbl> & <dbl> & <dbl> & <dbl> & <dbl> & <dbl> & <dbl> & <dbl> & ⋯ & <dbl> & <dbl> & <dbl> & <dbl> & <dbl> & <dbl> & <dbl> & <dbl> & <dbl> & <int>\\\\\n",
       "\\hline\n",
       "\t1 & 0 &  5 & 2 & 2 & 5 & 1 & 1 & 12 & 13 & 2 & ⋯ &   0 &  61 &   0 &   0 & 0 & 0 &   0 &  2 & 2008 & 208500\\\\\n",
       "\t2 & 1 & 24 & 1 & 2 & 2 & 1 & 1 &  8 &  8 & 1 & ⋯ & 298 &   0 &   0 &   0 & 0 & 0 &   0 &  5 & 2007 & 181500\\\\\n",
       "\t3 & 2 &  5 & 2 & 2 & 5 & 1 & 1 & 12 & 13 & 2 & ⋯ &   0 &  42 &   0 &   0 & 0 & 0 &   0 &  9 & 2008 & 223500\\\\\n",
       "\t4 & 3 &  6 & 2 & 2 & 5 & 1 & 1 & 13 & 15 & 0 & ⋯ &   0 &  35 & 272 &   0 & 0 & 0 &   0 &  2 & 2006 & 140000\\\\\n",
       "\t5 & 4 & 15 & 2 & 2 & 5 & 1 & 1 & 12 & 13 & 2 & ⋯ & 192 &  84 &   0 &   0 & 0 & 0 &   0 & 12 & 2008 & 250000\\\\\n",
       "\t6 & 5 & 11 & 2 & 2 & 0 & 1 & 1 & 12 & 13 & 5 & ⋯ &  40 &  30 &   0 & 320 & 0 & 0 & 700 & 10 & 2009 & 143000\\\\\n",
       "\t7 & 6 & 21 & 2 & 2 & 2 & 1 & 1 & 12 & 13 & 2 & ⋯ & 255 &  57 &   0 &   0 & 0 & 0 &   0 &  8 & 2007 & 307000\\\\\n",
       "\t8 & 7 & 14 & 4 & 2 & 5 & 1 & 1 &  6 &  6 & 1 & ⋯ & 235 & 204 & 228 &   0 & 0 & 0 & 350 & 11 & 2009 & 200000\\\\\n",
       "\t9 & 8 & 17 & 0 & 2 & 0 & 1 & 1 &  3 & 15 & 0 & ⋯ &  90 &   0 & 205 &   0 & 0 & 0 &   0 &  4 & 2008 & 129900\\\\\n",
       "\t10 & 9 &  3 & 0 & 0 & 1 & 1 & 1 &  8 &  8 & 0 & ⋯ &   0 &   4 &   0 &   0 & 0 & 0 &   0 &  1 & 2008 & 118000\\\\\n",
       "\\end{tabular}\n"
      ],
      "text/markdown": [
       "\n",
       "A data.frame: 10 × 156\n",
       "\n",
       "| <!--/--> | X &lt;int&gt; | Neighborhood &lt;dbl&gt; | Condition1 &lt;dbl&gt; | Condition2 &lt;dbl&gt; | HouseStyle &lt;dbl&gt; | RoofStyle &lt;dbl&gt; | RoofMatl &lt;dbl&gt; | Exterior1st &lt;dbl&gt; | Exterior2nd &lt;dbl&gt; | Foundation &lt;dbl&gt; | ⋯ ⋯ | WoodDeckSF &lt;dbl&gt; | OpenPorchSF &lt;dbl&gt; | EnclosedPorch &lt;dbl&gt; | X3SsnPorch &lt;dbl&gt; | ScreenPorch &lt;dbl&gt; | PoolArea &lt;dbl&gt; | MiscVal &lt;dbl&gt; | MoSold &lt;dbl&gt; | YrSold &lt;dbl&gt; | SalePrice &lt;int&gt; |\n",
       "|---|---|---|---|---|---|---|---|---|---|---|---|---|---|---|---|---|---|---|---|---|---|\n",
       "| 1 | 0 |  5 | 2 | 2 | 5 | 1 | 1 | 12 | 13 | 2 | ⋯ |   0 |  61 |   0 |   0 | 0 | 0 |   0 |  2 | 2008 | 208500 |\n",
       "| 2 | 1 | 24 | 1 | 2 | 2 | 1 | 1 |  8 |  8 | 1 | ⋯ | 298 |   0 |   0 |   0 | 0 | 0 |   0 |  5 | 2007 | 181500 |\n",
       "| 3 | 2 |  5 | 2 | 2 | 5 | 1 | 1 | 12 | 13 | 2 | ⋯ |   0 |  42 |   0 |   0 | 0 | 0 |   0 |  9 | 2008 | 223500 |\n",
       "| 4 | 3 |  6 | 2 | 2 | 5 | 1 | 1 | 13 | 15 | 0 | ⋯ |   0 |  35 | 272 |   0 | 0 | 0 |   0 |  2 | 2006 | 140000 |\n",
       "| 5 | 4 | 15 | 2 | 2 | 5 | 1 | 1 | 12 | 13 | 2 | ⋯ | 192 |  84 |   0 |   0 | 0 | 0 |   0 | 12 | 2008 | 250000 |\n",
       "| 6 | 5 | 11 | 2 | 2 | 0 | 1 | 1 | 12 | 13 | 5 | ⋯ |  40 |  30 |   0 | 320 | 0 | 0 | 700 | 10 | 2009 | 143000 |\n",
       "| 7 | 6 | 21 | 2 | 2 | 2 | 1 | 1 | 12 | 13 | 2 | ⋯ | 255 |  57 |   0 |   0 | 0 | 0 |   0 |  8 | 2007 | 307000 |\n",
       "| 8 | 7 | 14 | 4 | 2 | 5 | 1 | 1 |  6 |  6 | 1 | ⋯ | 235 | 204 | 228 |   0 | 0 | 0 | 350 | 11 | 2009 | 200000 |\n",
       "| 9 | 8 | 17 | 0 | 2 | 0 | 1 | 1 |  3 | 15 | 0 | ⋯ |  90 |   0 | 205 |   0 | 0 | 0 |   0 |  4 | 2008 | 129900 |\n",
       "| 10 | 9 |  3 | 0 | 0 | 1 | 1 | 1 |  8 |  8 | 0 | ⋯ |   0 |   4 |   0 |   0 | 0 | 0 |   0 |  1 | 2008 | 118000 |\n",
       "\n"
      ],
      "text/plain": [
       "   X Neighborhood Condition1 Condition2 HouseStyle RoofStyle RoofMatl\n",
       "1  0  5           2          2          5          1         1       \n",
       "2  1 24           1          2          2          1         1       \n",
       "3  2  5           2          2          5          1         1       \n",
       "4  3  6           2          2          5          1         1       \n",
       "5  4 15           2          2          5          1         1       \n",
       "6  5 11           2          2          0          1         1       \n",
       "7  6 21           2          2          2          1         1       \n",
       "8  7 14           4          2          5          1         1       \n",
       "9  8 17           0          2          0          1         1       \n",
       "10 9  3           0          0          1          1         1       \n",
       "   Exterior1st Exterior2nd Foundation ⋯ WoodDeckSF OpenPorchSF EnclosedPorch\n",
       "1  12          13          2          ⋯   0         61           0          \n",
       "2   8           8          1          ⋯ 298          0           0          \n",
       "3  12          13          2          ⋯   0         42           0          \n",
       "4  13          15          0          ⋯   0         35         272          \n",
       "5  12          13          2          ⋯ 192         84           0          \n",
       "6  12          13          5          ⋯  40         30           0          \n",
       "7  12          13          2          ⋯ 255         57           0          \n",
       "8   6           6          1          ⋯ 235        204         228          \n",
       "9   3          15          0          ⋯  90          0         205          \n",
       "10  8           8          0          ⋯   0          4           0          \n",
       "   X3SsnPorch ScreenPorch PoolArea MiscVal MoSold YrSold SalePrice\n",
       "1    0        0           0          0      2     2008   208500   \n",
       "2    0        0           0          0      5     2007   181500   \n",
       "3    0        0           0          0      9     2008   223500   \n",
       "4    0        0           0          0      2     2006   140000   \n",
       "5    0        0           0          0     12     2008   250000   \n",
       "6  320        0           0        700     10     2009   143000   \n",
       "7    0        0           0          0      8     2007   307000   \n",
       "8    0        0           0        350     11     2009   200000   \n",
       "9    0        0           0          0      4     2008   129900   \n",
       "10   0        0           0          0      1     2008   118000   "
      ]
     },
     "metadata": {},
     "output_type": "display_data"
    }
   ],
   "source": [
    "head(obesity_data, 10)"
   ]
  },
  {
   "cell_type": "code",
   "execution_count": 8,
   "id": "a120d940-02a8-4ebc-b73e-e081b55e908c",
   "metadata": {},
   "outputs": [
    {
     "data": {
      "text/html": [
       "<table class=\"dataframe\">\n",
       "<caption>A data.frame: 1460 × 1</caption>\n",
       "<thead>\n",
       "\t<tr><th scope=col>Neighborhood</th></tr>\n",
       "\t<tr><th scope=col>&lt;dbl&gt;</th></tr>\n",
       "</thead>\n",
       "<tbody>\n",
       "\t<tr><td> 5</td></tr>\n",
       "\t<tr><td>24</td></tr>\n",
       "\t<tr><td> 5</td></tr>\n",
       "\t<tr><td> 6</td></tr>\n",
       "\t<tr><td>15</td></tr>\n",
       "\t<tr><td>11</td></tr>\n",
       "\t<tr><td>21</td></tr>\n",
       "\t<tr><td>14</td></tr>\n",
       "\t<tr><td>17</td></tr>\n",
       "\t<tr><td> 3</td></tr>\n",
       "\t<tr><td>19</td></tr>\n",
       "\t<tr><td>16</td></tr>\n",
       "\t<tr><td>19</td></tr>\n",
       "\t<tr><td> 5</td></tr>\n",
       "\t<tr><td>12</td></tr>\n",
       "\t<tr><td> 3</td></tr>\n",
       "\t<tr><td>12</td></tr>\n",
       "\t<tr><td>19</td></tr>\n",
       "\t<tr><td>20</td></tr>\n",
       "\t<tr><td>12</td></tr>\n",
       "\t<tr><td>16</td></tr>\n",
       "\t<tr><td> 9</td></tr>\n",
       "\t<tr><td> 5</td></tr>\n",
       "\t<tr><td>10</td></tr>\n",
       "\t<tr><td>19</td></tr>\n",
       "\t<tr><td>16</td></tr>\n",
       "\t<tr><td>12</td></tr>\n",
       "\t<tr><td>16</td></tr>\n",
       "\t<tr><td>12</td></tr>\n",
       "\t<tr><td> 3</td></tr>\n",
       "\t<tr><td>⋮</td></tr>\n",
       "\t<tr><td> 8</td></tr>\n",
       "\t<tr><td>13</td></tr>\n",
       "\t<tr><td>17</td></tr>\n",
       "\t<tr><td> 8</td></tr>\n",
       "\t<tr><td>11</td></tr>\n",
       "\t<tr><td>12</td></tr>\n",
       "\t<tr><td>12</td></tr>\n",
       "\t<tr><td>16</td></tr>\n",
       "\t<tr><td>17</td></tr>\n",
       "\t<tr><td>14</td></tr>\n",
       "\t<tr><td> 6</td></tr>\n",
       "\t<tr><td> 5</td></tr>\n",
       "\t<tr><td>21</td></tr>\n",
       "\t<tr><td> 3</td></tr>\n",
       "\t<tr><td> 5</td></tr>\n",
       "\t<tr><td>19</td></tr>\n",
       "\t<tr><td>11</td></tr>\n",
       "\t<tr><td> 5</td></tr>\n",
       "\t<tr><td> 7</td></tr>\n",
       "\t<tr><td>10</td></tr>\n",
       "\t<tr><td>12</td></tr>\n",
       "\t<tr><td>21</td></tr>\n",
       "\t<tr><td> 7</td></tr>\n",
       "\t<tr><td>11</td></tr>\n",
       "\t<tr><td>21</td></tr>\n",
       "\t<tr><td> 8</td></tr>\n",
       "\t<tr><td>14</td></tr>\n",
       "\t<tr><td> 6</td></tr>\n",
       "\t<tr><td>12</td></tr>\n",
       "\t<tr><td> 7</td></tr>\n",
       "</tbody>\n",
       "</table>\n"
      ],
      "text/latex": [
       "A data.frame: 1460 × 1\n",
       "\\begin{tabular}{l}\n",
       " Neighborhood\\\\\n",
       " <dbl>\\\\\n",
       "\\hline\n",
       "\t  5\\\\\n",
       "\t 24\\\\\n",
       "\t  5\\\\\n",
       "\t  6\\\\\n",
       "\t 15\\\\\n",
       "\t 11\\\\\n",
       "\t 21\\\\\n",
       "\t 14\\\\\n",
       "\t 17\\\\\n",
       "\t  3\\\\\n",
       "\t 19\\\\\n",
       "\t 16\\\\\n",
       "\t 19\\\\\n",
       "\t  5\\\\\n",
       "\t 12\\\\\n",
       "\t  3\\\\\n",
       "\t 12\\\\\n",
       "\t 19\\\\\n",
       "\t 20\\\\\n",
       "\t 12\\\\\n",
       "\t 16\\\\\n",
       "\t  9\\\\\n",
       "\t  5\\\\\n",
       "\t 10\\\\\n",
       "\t 19\\\\\n",
       "\t 16\\\\\n",
       "\t 12\\\\\n",
       "\t 16\\\\\n",
       "\t 12\\\\\n",
       "\t  3\\\\\n",
       "\t ⋮\\\\\n",
       "\t  8\\\\\n",
       "\t 13\\\\\n",
       "\t 17\\\\\n",
       "\t  8\\\\\n",
       "\t 11\\\\\n",
       "\t 12\\\\\n",
       "\t 12\\\\\n",
       "\t 16\\\\\n",
       "\t 17\\\\\n",
       "\t 14\\\\\n",
       "\t  6\\\\\n",
       "\t  5\\\\\n",
       "\t 21\\\\\n",
       "\t  3\\\\\n",
       "\t  5\\\\\n",
       "\t 19\\\\\n",
       "\t 11\\\\\n",
       "\t  5\\\\\n",
       "\t  7\\\\\n",
       "\t 10\\\\\n",
       "\t 12\\\\\n",
       "\t 21\\\\\n",
       "\t  7\\\\\n",
       "\t 11\\\\\n",
       "\t 21\\\\\n",
       "\t  8\\\\\n",
       "\t 14\\\\\n",
       "\t  6\\\\\n",
       "\t 12\\\\\n",
       "\t  7\\\\\n",
       "\\end{tabular}\n"
      ],
      "text/markdown": [
       "\n",
       "A data.frame: 1460 × 1\n",
       "\n",
       "| Neighborhood &lt;dbl&gt; |\n",
       "|---|\n",
       "|  5 |\n",
       "| 24 |\n",
       "|  5 |\n",
       "|  6 |\n",
       "| 15 |\n",
       "| 11 |\n",
       "| 21 |\n",
       "| 14 |\n",
       "| 17 |\n",
       "|  3 |\n",
       "| 19 |\n",
       "| 16 |\n",
       "| 19 |\n",
       "|  5 |\n",
       "| 12 |\n",
       "|  3 |\n",
       "| 12 |\n",
       "| 19 |\n",
       "| 20 |\n",
       "| 12 |\n",
       "| 16 |\n",
       "|  9 |\n",
       "|  5 |\n",
       "| 10 |\n",
       "| 19 |\n",
       "| 16 |\n",
       "| 12 |\n",
       "| 16 |\n",
       "| 12 |\n",
       "|  3 |\n",
       "| ⋮ |\n",
       "|  8 |\n",
       "| 13 |\n",
       "| 17 |\n",
       "|  8 |\n",
       "| 11 |\n",
       "| 12 |\n",
       "| 12 |\n",
       "| 16 |\n",
       "| 17 |\n",
       "| 14 |\n",
       "|  6 |\n",
       "|  5 |\n",
       "| 21 |\n",
       "|  3 |\n",
       "|  5 |\n",
       "| 19 |\n",
       "| 11 |\n",
       "|  5 |\n",
       "|  7 |\n",
       "| 10 |\n",
       "| 12 |\n",
       "| 21 |\n",
       "|  7 |\n",
       "| 11 |\n",
       "| 21 |\n",
       "|  8 |\n",
       "| 14 |\n",
       "|  6 |\n",
       "| 12 |\n",
       "|  7 |\n",
       "\n"
      ],
      "text/plain": [
       "     Neighborhood\n",
       "1     5          \n",
       "2    24          \n",
       "3     5          \n",
       "4     6          \n",
       "5    15          \n",
       "6    11          \n",
       "7    21          \n",
       "8    14          \n",
       "9    17          \n",
       "10    3          \n",
       "11   19          \n",
       "12   16          \n",
       "13   19          \n",
       "14    5          \n",
       "15   12          \n",
       "16    3          \n",
       "17   12          \n",
       "18   19          \n",
       "19   20          \n",
       "20   12          \n",
       "21   16          \n",
       "22    9          \n",
       "23    5          \n",
       "24   10          \n",
       "25   19          \n",
       "26   16          \n",
       "27   12          \n",
       "28   16          \n",
       "29   12          \n",
       "30    3          \n",
       "⋮    ⋮           \n",
       "1431  8          \n",
       "1432 13          \n",
       "1433 17          \n",
       "1434  8          \n",
       "1435 11          \n",
       "1436 12          \n",
       "1437 12          \n",
       "1438 16          \n",
       "1439 17          \n",
       "1440 14          \n",
       "1441  6          \n",
       "1442  5          \n",
       "1443 21          \n",
       "1444  3          \n",
       "1445  5          \n",
       "1446 19          \n",
       "1447 11          \n",
       "1448  5          \n",
       "1449  7          \n",
       "1450 10          \n",
       "1451 12          \n",
       "1452 21          \n",
       "1453  7          \n",
       "1454 11          \n",
       "1455 21          \n",
       "1456  8          \n",
       "1457 14          \n",
       "1458  6          \n",
       "1459 12          \n",
       "1460  7          "
      ]
     },
     "metadata": {},
     "output_type": "display_data"
    }
   ],
   "source": [
    "obesity_data %>% \n",
    "    select(Neighborhood)"
   ]
  },
  {
   "attachments": {
    "7a5f6f89-9ac7-459a-bfa7-0878f1bc3df3.png": {
     "image/png": "[encoded data removed]"
    }
   },
   "cell_type": "markdown",
   "id": "86daddc2-7f98-4158-978a-b00dd7ec7fb4",
   "metadata": {},
   "source": [
    "***\n",
    "![image.png](attachment:7a5f6f89-9ac7-459a-bfa7-0878f1bc3df3.png)\n",
    "***"
   ]
  },
  {
   "cell_type": "code",
   "execution_count": 11,
   "id": "c51731f2-ff23-4e30-b9b7-d5c6f857f2fb",
   "metadata": {},
   "outputs": [
    {
     "data": {
      "text/html": [
       "0.481891626359804"
      ],
      "text/latex": [
       "0.481891626359804"
      ],
      "text/markdown": [
       "0.481891626359804"
      ],
      "text/plain": [
       "[1] 0.4818916"
      ]
     },
     "metadata": {},
     "output_type": "display_data"
    }
   ],
   "source": [
    "n = 15\n",
    "p = 0.83\n",
    "x = 6\n",
    "\n",
    "bi_prob <- function(n, p, x) {\n",
    "    choose(n, x) * p^x * (1 - p)^(n - x)\n",
    "}\n",
    "\n",
    "# bi_prob(n,p,x)\n",
    "sum <- 0\n",
    "for (i in 0:12) {\n",
    "    sum <- sum + bi_prob(n, p, i)\n",
    "}\n",
    "sum"
   ]
  },
  {
   "cell_type": "code",
   "execution_count": 22,
   "id": "d1f3d18e-ef8c-41cb-a686-a64b8ef5ee1c",
   "metadata": {},
   "outputs": [
    {
     "data": {
      "text/html": [
       "0.00874015800396251"
      ],
      "text/latex": [
       "0.00874015800396251"
      ],
      "text/markdown": [
       "0.00874015800396251"
      ],
      "text/plain": [
       "[1] 0.008740158"
      ]
     },
     "metadata": {},
     "output_type": "display_data"
    }
   ],
   "source": [
    "# choose(21, 13) * 0.7^13 * (0.3)^8 +\n",
    "# choose(21, 12) * 0.7^12 * (0.3)^9 +\n",
    "# choose(21, 11) * 0.7^11 * (0.3)^10 +\n",
    "# choose(21, 10) * 0.7^10 * (0.3)^11 +\n",
    "choose(21, 9) * 0.7^9 * (0.3)^12 +\n",
    "choose(21, 8) * 0.7^8 * (0.3)^13 +\n",
    "choose(21, 7) * 0.7^7 * (0.3)^14 +\n",
    "choose(21, 6) * 0.7^6 * (0.3)^15 +\n",
    "choose(21, 5) * 0.7^5 * (0.3)^16 +\n",
    "choose(21, 4) * 0.7^4 * (0.3)^17 +\n",
    "choose(21, 3) * 0.7^3 * (0.3)^18 +\n",
    "choose(21, 2) * 0.7^2 * (0.3)^19 +\n",
    "choose(21, 1) * 0.7^1 * (0.3)^20 +\n",
    "choose(21, 0) * 0.7^0 * (0.3)^21"
   ]
  },
  {
   "cell_type": "code",
   "execution_count": 21,
   "id": "826946e2-8b97-4ca8-85b7-88ab0ec87925",
   "metadata": {},
   "outputs": [
    {
     "data": {
      "text/html": [
       "0.027129370541188"
      ],
      "text/latex": [
       "0.027129370541188"
      ],
      "text/markdown": [
       "0.027129370541188"
      ],
      "text/plain": [
       "[1] 0.02712937"
      ]
     },
     "metadata": {},
     "output_type": "display_data"
    }
   ],
   "source": [
    "# choose(21, 18) * 0.7^18 * (0.3)^3 +\n",
    "choose(21, 19) * 0.7^19 * (0.3)^2 +\n",
    "choose(21, 20) * 0.7^20 * (0.3)^1+\n",
    "choose(21, 21) * 0.7^21 * (0.3)^0"
   ]
  },
  {
   "cell_type": "code",
   "execution_count": 32,
   "id": "fc83d8d0-05e8-48e8-bd60-bcb5fa4ada1f",
   "metadata": {},
   "outputs": [
    {
     "data": {
      "text/html": [
       "0.358485922408542"
      ],
      "text/latex": [
       "0.358485922408542"
      ],
      "text/markdown": [
       "0.358485922408542"
      ],
      "text/plain": [
       "[1] 0.3584859"
      ]
     },
     "metadata": {},
     "output_type": "display_data"
    }
   ],
   "source": [
    "choose(20, 0) * 0.05^0 * (0.95)^20\n",
    "# choose(20, 1) * 0.05^1 * (0.95)^19 +\n",
    "# choose(20, 2) * 0.05^2 * (0.95)^18 +\n",
    "# choose(20, 3) * 0.05^3 * (0.95)^17\n",
    "\n",
    "# 1- 0.924516326211503"
   ]
  },
  {
   "cell_type": "code",
   "execution_count": 35,
   "id": "f3878b70-9350-4b2a-8647-c76710107f31",
   "metadata": {},
   "outputs": [
    {
     "data": {
      "text/html": [
       "0.201929542409359"
      ],
      "text/latex": [
       "0.201929542409359"
      ],
      "text/markdown": [
       "0.201929542409359"
      ],
      "text/plain": [
       "[1] 0.2019295"
      ]
     },
     "metadata": {},
     "output_type": "display_data"
    }
   ],
   "source": [
    "choose(10, 9) * 0.73^9 * (0.27)^1 +\n",
    "choose(10, 10) * 0.73^10 * (0.27)^0\n",
    "# choose(10, 8) * 0.73^8 * (0.3)^13 +\n",
    "# choose(10, 7) * 0.73^7 * (0.3)^14 +\n",
    "# choose(10, 6) * 0.73^6 * (0.3)^15 +\n",
    "# choose(10, 5) * 0.73^5 * (0.3)^16 +\n",
    "# choose(10, 4) * 0.73^4 * (0.3)^17 +\n",
    "# choose(10, 3) * 0.73^3 * (0.3)^18 +\n",
    "# choose(10, 2) * 0.73^2 * (0.3)^19 +\n",
    "# choose(10, 1) * 0.73^1 * (0.3)^20 +\n",
    "# choose(10, 0) * 0.73^0 * (0.3)^21"
   ]
  },
  {
   "cell_type": "code",
   "execution_count": 33,
   "id": "8fa12180-3275-4271-86bb-41b79ec003fe",
   "metadata": {},
   "outputs": [
    {
     "data": {
      "text/html": [
       "0.977249868051821"
      ],
      "text/latex": [
       "0.977249868051821"
      ],
      "text/markdown": [
       "0.977249868051821"
      ],
      "text/plain": [
       "[1] 0.9772499"
      ]
     },
     "metadata": {},
     "output_type": "display_data"
    },
    {
     "data": {
      "text/html": [
       "0.841344746068543"
      ],
      "text/latex": [
       "0.841344746068543"
      ],
      "text/markdown": [
       "0.841344746068543"
      ],
      "text/plain": [
       "[1] 0.8413447"
      ]
     },
     "metadata": {},
     "output_type": "display_data"
    },
    {
     "data": {
      "text/html": [
       "0.67652377936609"
      ],
      "text/latex": [
       "0.67652377936609"
      ],
      "text/markdown": [
       "0.67652377936609"
      ],
      "text/plain": [
       "[1] 0.6765238"
      ]
     },
     "metadata": {},
     "output_type": "display_data"
    },
    {
     "data": {
      "text/html": [
       "0.682689492137086"
      ],
      "text/latex": [
       "0.682689492137086"
      ],
      "text/markdown": [
       "0.682689492137086"
      ],
      "text/plain": [
       "[1] 0.6826895"
      ]
     },
     "metadata": {},
     "output_type": "display_data"
    },
    {
     "data": {
      "text/html": [
       "0.0248661923491661"
      ],
      "text/latex": [
       "0.0248661923491661"
      ],
      "text/markdown": [
       "0.0248661923491661"
      ],
      "text/plain": [
       "[1] 0.02486619"
      ]
     },
     "metadata": {},
     "output_type": "display_data"
    },
    {
     "data": {
      "text/html": [
       "-1.1263911290388"
      ],
      "text/latex": [
       "-1.1263911290388"
      ],
      "text/markdown": [
       "-1.1263911290388"
      ],
      "text/plain": [
       "[1] -1.126391"
      ]
     },
     "metadata": {},
     "output_type": "display_data"
    },
    {
     "data": {
      "text/html": [
       "1.64485362695147"
      ],
      "text/latex": [
       "1.64485362695147"
      ],
      "text/markdown": [
       "1.64485362695147"
      ],
      "text/plain": [
       "[1] 1.644854"
      ]
     },
     "metadata": {},
     "output_type": "display_data"
    },
    {
     "data": {
      "text/html": [
       "0.841621233572914"
      ],
      "text/latex": [
       "0.841621233572914"
      ],
      "text/markdown": [
       "0.841621233572914"
      ],
      "text/plain": [
       "[1] 0.8416212"
      ]
     },
     "metadata": {},
     "output_type": "display_data"
    }
   ],
   "source": [
    "\n",
    "# 8.\n",
    "1 - pnorm(-2)\n",
    "# 9.\n",
    "pnorm(1)\n",
    "# 10.\n",
    "pnorm(0.458)\n",
    "# 11.\n",
    "pnorm(1) - pnorm(-1)\n",
    "# 12.\n",
    "pnorm(2.06, lower.tail = TRUE) - pnorm(1.7)\n",
    "# 13.\n",
    "qnorm(0.13)\n",
    "\n",
    "#14.\n",
    "qnorm(0.05, lower.tail=FALSE)\n",
    "\n",
    "#15.\n",
    "qnorm(0.8)\n",
    "#16.\n"
   ]
  },
  {
   "cell_type": "code",
   "execution_count": 39,
   "id": "86916873-86d3-4e11-a080-9c24aee633a9",
   "metadata": {},
   "outputs": [
    {
     "data": {
      "text/html": [
       "0.799132181472301"
      ],
      "text/latex": [
       "0.799132181472301"
      ],
      "text/markdown": [
       "0.799132181472301"
      ],
      "text/plain": [
       "[1] 0.7991322"
      ]
     },
     "metadata": {},
     "output_type": "display_data"
    }
   ],
   "source": [
    "mean_sample_sd <- 4 / sqrt(45)\n",
    "\n",
    "pnorm(19.5, 20, mean_sample_sd, lower.tail = FALSE)"
   ]
  },
  {
   "cell_type": "code",
   "execution_count": 48,
   "id": "1bf7675a-df87-4805-ba20-77f58aa24025",
   "metadata": {},
   "outputs": [
    {
     "data": {
      "text/html": [
       "10.4368968689108"
      ],
      "text/latex": [
       "10.4368968689108"
      ],
      "text/markdown": [
       "10.4368968689108"
      ],
      "text/plain": [
       "[1] 10.4369"
      ]
     },
     "metadata": {},
     "output_type": "display_data"
    }
   ],
   "source": [
    "qnorm(0.10, 13, 2, lower.tail = TRUE)"
   ]
  },
  {
   "cell_type": "code",
   "execution_count": 67,
   "id": "26a9f2b4-4ace-4b53-9db9-f3cfc87cd1e0",
   "metadata": {},
   "outputs": [
    {
     "data": {
      "text/html": [
       "27.2428034696039"
      ],
      "text/latex": [
       "27.2428034696039"
      ],
      "text/markdown": [
       "27.2428034696039"
      ],
      "text/plain": [
       "[1] 27.2428"
      ]
     },
     "metadata": {},
     "output_type": "display_data"
    },
    {
     "data": {
      "text/html": [
       "62.7571965303961"
      ],
      "text/latex": [
       "62.7571965303961"
      ],
      "text/markdown": [
       "62.7571965303961"
      ],
      "text/plain": [
       "[1] 62.7572"
      ]
     },
     "metadata": {},
     "output_type": "display_data"
    }
   ],
   "source": [
    "qnorm(0.175, 45, 19)\n",
    "qnorm(0.175, 45, 19, lower.tail = FALSE)"
   ]
  },
  {
   "cell_type": "code",
   "execution_count": 70,
   "id": "4ad4f50c-3391-4375-b658-ba06102fa05a",
   "metadata": {},
   "outputs": [
    {
     "data": {
      "text/html": [
       "0.178997598540817"
      ],
      "text/latex": [
       "0.178997598540817"
      ],
      "text/markdown": [
       "0.178997598540817"
      ],
      "text/plain": [
       "[1] 0.1789976"
      ]
     },
     "metadata": {},
     "output_type": "display_data"
    },
    {
     "data": {
      "text/html": [
       "0.678695461700541"
      ],
      "text/latex": [
       "0.678695461700541"
      ],
      "text/markdown": [
       "0.678695461700541"
      ],
      "text/plain": [
       "[1] 0.6786955"
      ]
     },
     "metadata": {},
     "output_type": "display_data"
    },
    {
     "data": {
      "text/html": [
       "0.158655253931457"
      ],
      "text/latex": [
       "0.158655253931457"
      ],
      "text/markdown": [
       "0.158655253931457"
      ],
      "text/plain": [
       "[1] 0.1586553"
      ]
     },
     "metadata": {},
     "output_type": "display_data"
    },
    {
     "data": {
      "text/html": [
       "0.0420593473989568"
      ],
      "text/latex": [
       "0.0420593473989568"
      ],
      "text/markdown": [
       "0.0420593473989568"
      ],
      "text/plain": [
       "[1] 0.04205935"
      ]
     },
     "metadata": {},
     "output_type": "display_data"
    }
   ],
   "source": [
    "pnorm(71, 80.1, 9.9)\n",
    "pnorm(92, 80.1, 9.9) - pnorm(72, 80.1, 9.9)\n",
    "pnorm(90, 80.1, 9.9, lower.tail = FALSE)\n",
    "pnorm(63, 80.1, 9.9)"
   ]
  },
  {
   "cell_type": "code",
   "execution_count": 72,
   "id": "378a61ff-56fb-449b-94ae-6c60f828342f",
   "metadata": {},
   "outputs": [
    {
     "data": {
      "text/html": [
       "496.100895857857"
      ],
      "text/latex": [
       "496.100895857857"
      ],
      "text/markdown": [
       "496.100895857857"
      ],
      "text/plain": [
       "[1] 496.1009"
      ]
     },
     "metadata": {},
     "output_type": "display_data"
    }
   ],
   "source": [
    "qnorm(0.65, 483, 34)"
   ]
  },
  {
   "cell_type": "code",
   "execution_count": 77,
   "id": "2ab4426b-4b9b-4502-9ed8-2f4bdedbdbe3",
   "metadata": {},
   "outputs": [
    {
     "data": {
      "text/html": [
       "0.622669718470157"
      ],
      "text/latex": [
       "0.622669718470157"
      ],
      "text/markdown": [
       "0.622669718470157"
      ],
      "text/plain": [
       "[1] 0.6226697"
      ]
     },
     "metadata": {},
     "output_type": "display_data"
    },
    {
     "data": {
      "text/html": [
       "0.105649773666855"
      ],
      "text/latex": [
       "0.105649773666855"
      ],
      "text/markdown": [
       "0.105649773666855"
      ],
      "text/plain": [
       "[1] 0.1056498"
      ]
     },
     "metadata": {},
     "output_type": "display_data"
    },
    {
     "data": {
      "text/html": [
       "0.852088409941524"
      ],
      "text/latex": [
       "0.852088409941524"
      ],
      "text/markdown": [
       "0.852088409941524"
      ],
      "text/plain": [
       "[1] 0.8520884"
      ]
     },
     "metadata": {},
     "output_type": "display_data"
    }
   ],
   "source": [
    "pnorm(110, 115, 16, lower.tail=FALSE)\n",
    "pnorm(95, 115, 16, lower.tail=TRUE)\n",
    "pnorm(145, 115, 16, lower.tail=TRUE) - pnorm(96, 115, 16, lower.tail=TRUE)"
   ]
  },
  {
   "cell_type": "code",
   "execution_count": 88,
   "id": "795d7e00-33ee-4941-bf0c-60d6fb093b0d",
   "metadata": {},
   "outputs": [
    {
     "data": {
      "text/html": [
       "0.963180864939849"
      ],
      "text/latex": [
       "0.963180864939849"
      ],
      "text/markdown": [
       "0.963180864939849"
      ],
      "text/plain": [
       "[1] 0.9631809"
      ]
     },
     "metadata": {},
     "output_type": "display_data"
    },
    {
     "data": {
      "text/html": [
       "0.026316143919009"
      ],
      "text/latex": [
       "0.026316143919009"
      ],
      "text/markdown": [
       "0.026316143919009"
      ],
      "text/plain": [
       "[1] 0.02631614"
      ]
     },
     "metadata": {},
     "output_type": "display_data"
    },
    {
     "data": {
      "text/html": [
       "2.12708466262542"
      ],
      "text/latex": [
       "2.12708466262542"
      ],
      "text/markdown": [
       "2.12708466262542"
      ],
      "text/plain": [
       "[1] 2.127085"
      ]
     },
     "metadata": {},
     "output_type": "display_data"
    },
    {
     "data": {
      "text/html": [
       "0.0368191350601512"
      ],
      "text/latex": [
       "0.0368191350601512"
      ],
      "text/markdown": [
       "0.0368191350601512"
      ],
      "text/plain": [
       "[1] 0.03681914"
      ]
     },
     "metadata": {},
     "output_type": "display_data"
    },
    {
     "data": {
      "text/html": [
       "0.420740290560897"
      ],
      "text/latex": [
       "0.420740290560897"
      ],
      "text/markdown": [
       "0.420740290560897"
      ],
      "text/plain": [
       "[1] 0.4207403"
      ]
     },
     "metadata": {},
     "output_type": "display_data"
    }
   ],
   "source": [
    "mean = 2.24\n",
    "sd = 1.2 / sqrt(80)\n",
    "\n",
    "pnorm(2, mean, sd, lower.tail = FALSE)\n",
    "pnorm(3, mean, sd, lower.tail = TRUE) - pnorm(2.5, mean, sd, lower.tail = TRUE)\n",
    "qnorm(0.2, mean, sd)\n",
    "pnorm(2, mean, sd, lower.tail = TRUE)\n",
    "pnorm(2, 2.24, 1.2)"
   ]
  },
  {
   "cell_type": "code",
   "execution_count": 91,
   "id": "bf398dc9-8e87-4285-9596-a4f83e7691be",
   "metadata": {},
   "outputs": [
    {
     "data": {
      "text/html": [
       "0.39391481733885"
      ],
      "text/latex": [
       "0.39391481733885"
      ],
      "text/markdown": [
       "0.39391481733885"
      ],
      "text/plain": [
       "[1] 0.3939148"
      ]
     },
     "metadata": {},
     "output_type": "display_data"
    },
    {
     "data": {
      "text/html": [
       "0.655245450216411"
      ],
      "text/latex": [
       "0.655245450216411"
      ],
      "text/markdown": [
       "0.655245450216411"
      ],
      "text/plain": [
       "[1] 0.6552455"
      ]
     },
     "metadata": {},
     "output_type": "display_data"
    },
    {
     "data": {
      "text/html": [
       "7962.05989876308"
      ],
      "text/latex": [
       "7962.05989876308"
      ],
      "text/markdown": [
       "7962.05989876308"
      ],
      "text/plain": [
       "[1] 7962.06"
      ]
     },
     "metadata": {},
     "output_type": "display_data"
    },
    {
     "data": {
      "text/html": [
       "0.00153604888317258"
      ],
      "text/latex": [
       "0.00153604888317258"
      ],
      "text/markdown": [
       "0.00153604888317258"
      ],
      "text/plain": [
       "[1] 0.001536049"
      ]
     },
     "metadata": {},
     "output_type": "display_data"
    },
    {
     "data": {
      "text/html": [
       "0.462706693986868"
      ],
      "text/latex": [
       "0.462706693986868"
      ],
      "text/markdown": [
       "0.462706693986868"
      ],
      "text/plain": [
       "[1] 0.4627067"
      ]
     },
     "metadata": {},
     "output_type": "display_data"
    }
   ],
   "source": [
    "mean = 8040\n",
    "sd = 4700 / sqrt(1000)\n",
    "\n",
    "pnorm(8000, mean, sd, lower.tail = TRUE)\n",
    "pnorm(8100, mean, sd, lower.tail = TRUE) - pnorm(7600, mean, sd, lower.tail = TRUE)\n",
    "qnorm(0.3, mean, sd)\n",
    "pnorm(7600, mean, sd, lower.tail = TRUE)\n",
    "pnorm(7600, mean, 4700)"
   ]
  },
  {
   "cell_type": "code",
   "execution_count": 94,
   "id": "364ec8ff-6ca7-4e12-b4a1-42e27d1e9adf",
   "metadata": {},
   "outputs": [
    {
     "data": {
      "text/html": [
       "0.371722626152938"
      ],
      "text/latex": [
       "0.371722626152938"
      ],
      "text/markdown": [
       "0.371722626152938"
      ],
      "text/plain": [
       "[1] 0.3717226"
      ]
     },
     "metadata": {},
     "output_type": "display_data"
    },
    {
     "data": {
      "text/html": [
       "0.000698642594520411"
      ],
      "text/latex": [
       "0.000698642594520411"
      ],
      "text/markdown": [
       "0.000698642594520411"
      ],
      "text/plain": [
       "[1] 0.0006986426"
      ]
     },
     "metadata": {},
     "output_type": "display_data"
    }
   ],
   "source": [
    "mean = 197\n",
    "sd = 71 / sqrt(60)\n",
    "\n",
    "pnorm(200, mean, sd, lower.tail = FALSE)\n",
    "\n",
    "mean = 167\n",
    "sd = 80 / sqrt(60)\n",
    "\n",
    "pnorm(200, mean, sd, lower.tail = FALSE)"
   ]
  },
  {
   "cell_type": "code",
   "execution_count": 95,
   "id": "9a648b4e-664b-44f6-955c-71a37aea3ccd",
   "metadata": {},
   "outputs": [
    {
     "data": {
      "text/html": [
       "0.0239606276029428"
      ],
      "text/latex": [
       "0.0239606276029428"
      ],
      "text/markdown": [
       "0.0239606276029428"
      ],
      "text/plain": [
       "[1] 0.02396063"
      ]
     },
     "metadata": {},
     "output_type": "display_data"
    }
   ],
   "source": [
    "sqrt((0.87 * 0.13) / 197)"
   ]
  },
  {
   "cell_type": "code",
   "execution_count": 100,
   "id": "74c63b86-7354-40fd-af43-2f49227a9496",
   "metadata": {},
   "outputs": [
    {
     "data": {
      "text/html": [
       "0.214597650220176"
      ],
      "text/latex": [
       "0.214597650220176"
      ],
      "text/markdown": [
       "0.214597650220176"
      ],
      "text/plain": [
       "[1] 0.2145977"
      ]
     },
     "metadata": {},
     "output_type": "display_data"
    },
    {
     "data": {
      "text/html": [
       "0.973117787148208"
      ],
      "text/latex": [
       "0.973117787148208"
      ],
      "text/markdown": [
       "0.973117787148208"
      ],
      "text/plain": [
       "[1] 0.9731178"
      ]
     },
     "metadata": {},
     "output_type": "display_data"
    },
    {
     "data": {
      "text/html": [
       "0.97594658605574"
      ],
      "text/latex": [
       "0.97594658605574"
      ],
      "text/markdown": [
       "0.97594658605574"
      ],
      "text/plain": [
       "[1] 0.9759466"
      ]
     },
     "metadata": {},
     "output_type": "display_data"
    },
    {
     "data": {
      "text/html": [
       "0.0240534139442596"
      ],
      "text/latex": [
       "0.0240534139442596"
      ],
      "text/markdown": [
       "0.0240534139442596"
      ],
      "text/plain": [
       "[1] 0.02405341"
      ]
     },
     "metadata": {},
     "output_type": "display_data"
    }
   ],
   "source": [
    "sd <- sqrt((0.8 * 0.2) / 250)\n",
    "pnorm(0.82, 0.8, sd, lower.tail = FALSE)\n",
    "pnorm(0.85, 0.8, sd, lower.tail = TRUE) - pnorm(0.73, 0.8, sd, lower.tail = TRUE)\n",
    "pnorm(0.85, 0.8, sd, lower.tail = TRUE)\n",
    "pnorm(0.75, 0.8, sd, lower.tail = TRUE)"
   ]
  },
  {
   "cell_type": "code",
   "execution_count": 105,
   "id": "806f5eeb-86ac-47ee-9be4-30da2fdd3f97",
   "metadata": {},
   "outputs": [
    {
     "data": {
      "text/html": [
       "31.2"
      ],
      "text/latex": [
       "31.2"
      ],
      "text/markdown": [
       "31.2"
      ],
      "text/plain": [
       "[1] 31.2"
      ]
     },
     "metadata": {},
     "output_type": "display_data"
    },
    {
     "data": {
      "text/html": [
       "88.8"
      ],
      "text/latex": [
       "88.8"
      ],
      "text/markdown": [
       "88.8"
      ],
      "text/plain": [
       "[1] 88.8"
      ]
     },
     "metadata": {},
     "output_type": "display_data"
    },
    {
     "data": {
      "text/html": [
       "0.691279356135966"
      ],
      "text/latex": [
       "0.691279356135966"
      ],
      "text/markdown": [
       "0.691279356135966"
      ],
      "text/plain": [
       "[1] 0.6912794"
      ]
     },
     "metadata": {},
     "output_type": "display_data"
    },
    {
     "data": {
      "text/html": [
       "0.0656457025193288"
      ],
      "text/latex": [
       "0.0656457025193288"
      ],
      "text/markdown": [
       "0.0656457025193288"
      ],
      "text/plain": [
       "[1] 0.0656457"
      ]
     },
     "metadata": {},
     "output_type": "display_data"
    },
    {
     "data": {
      "text/html": [
       "0.10588742001646"
      ],
      "text/latex": [
       "0.10588742001646"
      ],
      "text/markdown": [
       "0.10588742001646"
      ],
      "text/plain": [
       "[1] 0.1058874"
      ]
     },
     "metadata": {},
     "output_type": "display_data"
    }
   ],
   "source": [
    "n <- 120\n",
    "p <- 0.26\n",
    "comp_p <- 1- p\n",
    "sd <- sqrt((p * comp_p) / n)\n",
    "\n",
    "n * p\n",
    "n * comp_p\n",
    "\n",
    "pnorm(0.28, p, sd)\n",
    "pnorm(0.38, p, sd) - pnorm(0.32, p, sd)\n",
    "pnorm(0.31, p, sd, lower.tail = FALSE)"
   ]
  },
  {
   "cell_type": "code",
   "execution_count": 1,
   "id": "613b0647-ce34-42d5-983f-6a7c4a039590",
   "metadata": {},
   "outputs": [
    {
     "data": {
      "text/html": [
       "0.882040604493278"
      ],
      "text/latex": [
       "0.882040604493278"
      ],
      "text/markdown": [
       "0.882040604493278"
      ],
      "text/plain": [
       "[1] 0.8820406"
      ]
     },
     "metadata": {},
     "output_type": "display_data"
    }
   ],
   "source": [
    "p <- 0.128\n",
    "n <- 200\n",
    "comp_p <- 1 - p\n",
    "sd <- sqrt((p * comp_p) / n)\n",
    "\n",
    "pnorm(0.1, p, sd, lower.tail = FALSE)"
   ]
  },
  {
   "cell_type": "code",
   "execution_count": 2,
   "id": "36dc102b-0b91-4f70-abfb-b800c7918e4b",
   "metadata": {},
   "outputs": [
    {
     "data": {
      "text/html": [
       "0.000398115078795406"
      ],
      "text/latex": [
       "0.000398115078795406"
      ],
      "text/markdown": [
       "0.000398115078795406"
      ],
      "text/plain": [
       "[1] 0.0003981151"
      ]
     },
     "metadata": {},
     "output_type": "display_data"
    }
   ],
   "source": [
    "mean <- 20\n",
    "sd <- 4 / sqrt(45)\n",
    "\n",
    "pnorm(22, mean, sd, lower.tail = FALSE)"
   ]
  },
  {
   "cell_type": "code",
   "execution_count": 6,
   "id": "ec8e6ef7-ceee-455a-a0f6-1d33b5a6593f",
   "metadata": {},
   "outputs": [
    {
     "data": {
      "text/html": [
       "0.0280666066597725"
      ],
      "text/latex": [
       "0.0280666066597725"
      ],
      "text/markdown": [
       "0.0280666066597725"
      ],
      "text/plain": [
       "[1] 0.02806661"
      ]
     },
     "metadata": {},
     "output_type": "display_data"
    }
   ],
   "source": [
    "pnorm(1.91, lower.tail = FALSE)"
   ]
  },
  {
   "cell_type": "code",
   "execution_count": 8,
   "id": "0cce7469-5052-48ca-aedc-dfed84b105d7",
   "metadata": {},
   "outputs": [
    {
     "data": {
      "text/html": [
       "-0.408788780274132"
      ],
      "text/latex": [
       "-0.408788780274132"
      ],
      "text/markdown": [
       "-0.408788780274132"
      ],
      "text/plain": [
       "[1] -0.4087888"
      ]
     },
     "metadata": {},
     "output_type": "display_data"
    }
   ],
   "source": [
    "pnorm(72, 74, 1.5) - pnorm(74, 74, 1.5)"
   ]
  },
  {
   "cell_type": "code",
   "execution_count": 28,
   "id": "816138d5-0493-4ac5-8221-5addaed97bae",
   "metadata": {},
   "outputs": [
    {
     "data": {
      "text/html": [
       "93024"
      ],
      "text/latex": [
       "93024"
      ],
      "text/markdown": [
       "93024"
      ],
      "text/plain": [
       "[1] 93024"
      ]
     },
     "metadata": {},
     "output_type": "display_data"
    },
    {
     "data": {
      "text/html": [
       "1860480"
      ],
      "text/latex": [
       "1860480"
      ],
      "text/markdown": [
       "1860480"
      ],
      "text/plain": [
       "[1] 1860480"
      ]
     },
     "metadata": {},
     "output_type": "display_data"
    },
    {
     "data": {
      "text/html": [
       "1860480"
      ],
      "text/latex": [
       "1860480"
      ],
      "text/markdown": [
       "1860480"
      ],
      "text/plain": [
       "[1] 1860480"
      ]
     },
     "metadata": {},
     "output_type": "display_data"
    }
   ],
   "source": [
    "choose(19, 4) + choose(19, 5) + choose(19, 6) + choose(19, 7)\n",
    "\n",
    "factorial(20) / factorial(20 - 5)\n",
    "\n",
    "# 20 * 19 * 18 * 17 * 16"
   ]
  }
 ],
 "metadata": {
  "kernelspec": {
   "display_name": "R",
   "language": "R",
   "name": "ir"
  },
  "language_info": {
   "codemirror_mode": "r",
   "file_extension": ".r",
   "mimetype": "text/x-r-source",
   "name": "R",
   "pygments_lexer": "r",
   "version": "4.3.2"
  }
 },
 "nbformat": 4,
 "nbformat_minor": 5
}
